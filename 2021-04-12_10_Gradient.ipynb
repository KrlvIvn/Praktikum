{
 "cells": [
  {
   "cell_type": "markdown",
   "metadata": {},
   "source": [
    "# Определение стоимости автомобилей"
   ]
  },
  {
   "cell_type": "markdown",
   "metadata": {},
   "source": [
    "Сервис по продаже автомобилей с пробегом «Не бит, не крашен» разрабатывает приложение для привлечения новых клиентов. В нём можно быстро узнать рыночную стоимость своего автомобиля. В вашем распоряжении исторические данные: технические характеристики, комплектации и цены автомобилей. Вам нужно построить модель для определения стоимости. \n",
    "\n",
    "Заказчику важны:\n",
    "\n",
    "- качество предсказания;\n",
    "- скорость предсказания;\n",
    "- время обучения."
   ]
  },
  {
   "cell_type": "markdown",
   "metadata": {},
   "source": [
    "<div class=\"alert alert-block alert-warning\">\n",
    "<b>Комментарий студента:</b>   \n",
    "  \n",
    "примерное время выполнения 6 минут!\n",
    "</div>"
   ]
  },
  {
   "cell_type": "markdown",
   "metadata": {},
   "source": [
    "## Подготовка данных"
   ]
  },
  {
   "cell_type": "code",
   "execution_count": 1,
   "metadata": {},
   "outputs": [],
   "source": [
    "#!pip install lightgbm"
   ]
  },
  {
   "cell_type": "code",
   "execution_count": 2,
   "metadata": {},
   "outputs": [],
   "source": [
    "import pandas as pd\n",
    "import numpy as np\n",
    "\n",
    "from matplotlib import pyplot as plt\n",
    "import seaborn as sns\n",
    "import plotly.express as px\n",
    "\n",
    "import time\n",
    "\n",
    "from sklearn import preprocessing\n",
    "'''\n",
    "from sklearn.discriminant_analysis import LinearDiscriminantAnalysis,QuadraticDiscriminantAnalysis\n",
    "from sklearn.neighbors import KNeighborsClassifier  \n",
    "from sklearn.naive_bayes import GaussianNB  \n",
    "from sklearn.svm import SVC'''\n",
    "from sklearn.tree import DecisionTreeClassifier,DecisionTreeRegressor\n",
    "from sklearn.metrics import accuracy_score,classification_report, confusion_matrix,r2_score,roc_curve,f1_score,\\\n",
    "mean_squared_error,roc_auc_score,recall_score,precision_score,make_scorer,precision_recall_curve\n",
    "from sklearn.model_selection import train_test_split,GridSearchCV,StratifiedKFold,RandomizedSearchCV\n",
    "from sklearn.dummy import DummyClassifier\n",
    "from sklearn.ensemble import RandomForestRegressor,RandomForestClassifier,GradientBoostingClassifier,GradientBoostingRegressor\n",
    "from sklearn.linear_model import LogisticRegression,LogisticRegressionCV,LinearRegression,Ridge,RidgeCV,LassoCV,Ridge,Lasso\n",
    "'''\n",
    "from sklearn.preprocessing import StandardScaler, MinMaxScaler,LabelEncoder,OrdinalEncoder\n",
    "from sklearn import model_selection, svm\n",
    "from sklearn.utils import resample\n",
    "'''\n",
    "\n",
    "\n",
    "from lightgbm import LGBMRegressor\n",
    "#import lightgbm\n",
    "from catboost import CatBoostRegressor, Pool\n",
    "import xgboost as xgb\n",
    "\n",
    "\n",
    "# random state\n",
    "RNS = 0"
   ]
  },
  {
   "cell_type": "code",
   "execution_count": 3,
   "metadata": {},
   "outputs": [],
   "source": [
    "#print(lightgbm.__version__)"
   ]
  },
  {
   "cell_type": "code",
   "execution_count": 4,
   "metadata": {},
   "outputs": [],
   "source": [
    "# 2 варианта чтобы открыть файл:\n",
    "try:\n",
    "    cars = pd.read_csv('/datasets/autos.csv')\n",
    "except:\n",
    "    cars = pd.read_csv('https://code.s3.yandex.net/datasets/autos.csv')"
   ]
  },
  {
   "cell_type": "code",
   "execution_count": 5,
   "metadata": {},
   "outputs": [
    {
     "data": {
      "text/html": [
       "<div>\n",
       "<style scoped>\n",
       "    .dataframe tbody tr th:only-of-type {\n",
       "        vertical-align: middle;\n",
       "    }\n",
       "\n",
       "    .dataframe tbody tr th {\n",
       "        vertical-align: top;\n",
       "    }\n",
       "\n",
       "    .dataframe thead th {\n",
       "        text-align: right;\n",
       "    }\n",
       "</style>\n",
       "<table border=\"1\" class=\"dataframe\">\n",
       "  <thead>\n",
       "    <tr style=\"text-align: right;\">\n",
       "      <th></th>\n",
       "      <th>DateCrawled</th>\n",
       "      <th>Price</th>\n",
       "      <th>VehicleType</th>\n",
       "      <th>RegistrationYear</th>\n",
       "      <th>Gearbox</th>\n",
       "      <th>Power</th>\n",
       "      <th>Model</th>\n",
       "      <th>Kilometer</th>\n",
       "      <th>RegistrationMonth</th>\n",
       "      <th>FuelType</th>\n",
       "      <th>Brand</th>\n",
       "      <th>NotRepaired</th>\n",
       "      <th>DateCreated</th>\n",
       "      <th>NumberOfPictures</th>\n",
       "      <th>PostalCode</th>\n",
       "      <th>LastSeen</th>\n",
       "    </tr>\n",
       "  </thead>\n",
       "  <tbody>\n",
       "    <tr>\n",
       "      <td>0</td>\n",
       "      <td>2016-03-24 11:52:17</td>\n",
       "      <td>480</td>\n",
       "      <td>NaN</td>\n",
       "      <td>1993</td>\n",
       "      <td>manual</td>\n",
       "      <td>0</td>\n",
       "      <td>golf</td>\n",
       "      <td>150000</td>\n",
       "      <td>0</td>\n",
       "      <td>petrol</td>\n",
       "      <td>volkswagen</td>\n",
       "      <td>NaN</td>\n",
       "      <td>2016-03-24 00:00:00</td>\n",
       "      <td>0</td>\n",
       "      <td>70435</td>\n",
       "      <td>2016-04-07 03:16:57</td>\n",
       "    </tr>\n",
       "    <tr>\n",
       "      <td>1</td>\n",
       "      <td>2016-03-24 10:58:45</td>\n",
       "      <td>18300</td>\n",
       "      <td>coupe</td>\n",
       "      <td>2011</td>\n",
       "      <td>manual</td>\n",
       "      <td>190</td>\n",
       "      <td>NaN</td>\n",
       "      <td>125000</td>\n",
       "      <td>5</td>\n",
       "      <td>gasoline</td>\n",
       "      <td>audi</td>\n",
       "      <td>yes</td>\n",
       "      <td>2016-03-24 00:00:00</td>\n",
       "      <td>0</td>\n",
       "      <td>66954</td>\n",
       "      <td>2016-04-07 01:46:50</td>\n",
       "    </tr>\n",
       "    <tr>\n",
       "      <td>2</td>\n",
       "      <td>2016-03-14 12:52:21</td>\n",
       "      <td>9800</td>\n",
       "      <td>suv</td>\n",
       "      <td>2004</td>\n",
       "      <td>auto</td>\n",
       "      <td>163</td>\n",
       "      <td>grand</td>\n",
       "      <td>125000</td>\n",
       "      <td>8</td>\n",
       "      <td>gasoline</td>\n",
       "      <td>jeep</td>\n",
       "      <td>NaN</td>\n",
       "      <td>2016-03-14 00:00:00</td>\n",
       "      <td>0</td>\n",
       "      <td>90480</td>\n",
       "      <td>2016-04-05 12:47:46</td>\n",
       "    </tr>\n",
       "    <tr>\n",
       "      <td>3</td>\n",
       "      <td>2016-03-17 16:54:04</td>\n",
       "      <td>1500</td>\n",
       "      <td>small</td>\n",
       "      <td>2001</td>\n",
       "      <td>manual</td>\n",
       "      <td>75</td>\n",
       "      <td>golf</td>\n",
       "      <td>150000</td>\n",
       "      <td>6</td>\n",
       "      <td>petrol</td>\n",
       "      <td>volkswagen</td>\n",
       "      <td>no</td>\n",
       "      <td>2016-03-17 00:00:00</td>\n",
       "      <td>0</td>\n",
       "      <td>91074</td>\n",
       "      <td>2016-03-17 17:40:17</td>\n",
       "    </tr>\n",
       "    <tr>\n",
       "      <td>4</td>\n",
       "      <td>2016-03-31 17:25:20</td>\n",
       "      <td>3600</td>\n",
       "      <td>small</td>\n",
       "      <td>2008</td>\n",
       "      <td>manual</td>\n",
       "      <td>69</td>\n",
       "      <td>fabia</td>\n",
       "      <td>90000</td>\n",
       "      <td>7</td>\n",
       "      <td>gasoline</td>\n",
       "      <td>skoda</td>\n",
       "      <td>no</td>\n",
       "      <td>2016-03-31 00:00:00</td>\n",
       "      <td>0</td>\n",
       "      <td>60437</td>\n",
       "      <td>2016-04-06 10:17:21</td>\n",
       "    </tr>\n",
       "  </tbody>\n",
       "</table>\n",
       "</div>"
      ],
      "text/plain": [
       "           DateCrawled  Price VehicleType  RegistrationYear Gearbox  Power  \\\n",
       "0  2016-03-24 11:52:17    480         NaN              1993  manual      0   \n",
       "1  2016-03-24 10:58:45  18300       coupe              2011  manual    190   \n",
       "2  2016-03-14 12:52:21   9800         suv              2004    auto    163   \n",
       "3  2016-03-17 16:54:04   1500       small              2001  manual     75   \n",
       "4  2016-03-31 17:25:20   3600       small              2008  manual     69   \n",
       "\n",
       "   Model  Kilometer  RegistrationMonth  FuelType       Brand NotRepaired  \\\n",
       "0   golf     150000                  0    petrol  volkswagen         NaN   \n",
       "1    NaN     125000                  5  gasoline        audi         yes   \n",
       "2  grand     125000                  8  gasoline        jeep         NaN   \n",
       "3   golf     150000                  6    petrol  volkswagen          no   \n",
       "4  fabia      90000                  7  gasoline       skoda          no   \n",
       "\n",
       "           DateCreated  NumberOfPictures  PostalCode             LastSeen  \n",
       "0  2016-03-24 00:00:00                 0       70435  2016-04-07 03:16:57  \n",
       "1  2016-03-24 00:00:00                 0       66954  2016-04-07 01:46:50  \n",
       "2  2016-03-14 00:00:00                 0       90480  2016-04-05 12:47:46  \n",
       "3  2016-03-17 00:00:00                 0       91074  2016-03-17 17:40:17  \n",
       "4  2016-03-31 00:00:00                 0       60437  2016-04-06 10:17:21  "
      ]
     },
     "execution_count": 5,
     "metadata": {},
     "output_type": "execute_result"
    }
   ],
   "source": [
    "cars.head()"
   ]
  },
  {
   "cell_type": "code",
   "execution_count": 6,
   "metadata": {},
   "outputs": [],
   "source": [
    "#функция дает первичное представление об исходных данных: типы данных,количество пропусков,кол-во дубликатов,\n",
    "#хар-ки числовых столбцов \n",
    "def df_info(df):\n",
    "    print(80*\"+\")\n",
    "    #print(f'Название таблицы : {df.name}')\n",
    "    #print(80*\"+\")\n",
    "    df.info()\n",
    "    print(80*\"+\")\n",
    "    print('Описание количественных переменных:')\n",
    "    print(df.describe(percentiles=[.25,.5]))\n",
    "    print(80*\"+\")\n",
    "    print(f'количество дубликатов в таблице = {df.duplicated().sum()}')"
   ]
  },
  {
   "cell_type": "code",
   "execution_count": 7,
   "metadata": {},
   "outputs": [
    {
     "name": "stdout",
     "output_type": "stream",
     "text": [
      "++++++++++++++++++++++++++++++++++++++++++++++++++++++++++++++++++++++++++++++++\n",
      "<class 'pandas.core.frame.DataFrame'>\n",
      "RangeIndex: 354369 entries, 0 to 354368\n",
      "Data columns (total 16 columns):\n",
      "DateCrawled          354369 non-null object\n",
      "Price                354369 non-null int64\n",
      "VehicleType          316879 non-null object\n",
      "RegistrationYear     354369 non-null int64\n",
      "Gearbox              334536 non-null object\n",
      "Power                354369 non-null int64\n",
      "Model                334664 non-null object\n",
      "Kilometer            354369 non-null int64\n",
      "RegistrationMonth    354369 non-null int64\n",
      "FuelType             321474 non-null object\n",
      "Brand                354369 non-null object\n",
      "NotRepaired          283215 non-null object\n",
      "DateCreated          354369 non-null object\n",
      "NumberOfPictures     354369 non-null int64\n",
      "PostalCode           354369 non-null int64\n",
      "LastSeen             354369 non-null object\n",
      "dtypes: int64(7), object(9)\n",
      "memory usage: 43.3+ MB\n",
      "++++++++++++++++++++++++++++++++++++++++++++++++++++++++++++++++++++++++++++++++\n",
      "Описание количественных переменных:\n",
      "               Price  RegistrationYear          Power      Kilometer  \\\n",
      "count  354369.000000     354369.000000  354369.000000  354369.000000   \n",
      "mean     4416.656776       2004.234448     110.094337  128211.172535   \n",
      "std      4514.158514         90.227958     189.850405   37905.341530   \n",
      "min         0.000000       1000.000000       0.000000    5000.000000   \n",
      "25%      1050.000000       1999.000000      69.000000  125000.000000   \n",
      "50%      2700.000000       2003.000000     105.000000  150000.000000   \n",
      "max     20000.000000       9999.000000   20000.000000  150000.000000   \n",
      "\n",
      "       RegistrationMonth  NumberOfPictures     PostalCode  \n",
      "count      354369.000000          354369.0  354369.000000  \n",
      "mean            5.714645               0.0   50508.689087  \n",
      "std             3.726421               0.0   25783.096248  \n",
      "min             0.000000               0.0    1067.000000  \n",
      "25%             3.000000               0.0   30165.000000  \n",
      "50%             6.000000               0.0   49413.000000  \n",
      "max            12.000000               0.0   99998.000000  \n",
      "++++++++++++++++++++++++++++++++++++++++++++++++++++++++++++++++++++++++++++++++\n",
      "количество дубликатов в таблице = 4\n"
     ]
    }
   ],
   "source": [
    "df_info(cars)"
   ]
  },
  {
   "cell_type": "code",
   "execution_count": 8,
   "metadata": {},
   "outputs": [
    {
     "data": {
      "text/plain": [
       "0    354369\n",
       "Name: NumberOfPictures, dtype: int64"
      ]
     },
     "execution_count": 8,
     "metadata": {},
     "output_type": "execute_result"
    }
   ],
   "source": [
    "cars.NumberOfPictures.value_counts()"
   ]
  },
  {
   "cell_type": "markdown",
   "metadata": {},
   "source": [
    "### Заключения по результатам подготовки данных:\n",
    "1. **Пропуски:**\n",
    "    - колонки VehicleType, Gearbox,Model,FuelType,Brand можно попробовать заполнить по медианой по аналогам \n",
    "    - колонка NotRepaired возможно попробовать заполнить на основании RegistrationYear,Model,Price\n",
    "2. **Анализ численных данных на адекватность:**\n",
    "    - Price = 0 .Т.к. это таргет, то просто удалим этим строки, цена быть должна;\n",
    "    - RegistrationYear надо отсечь/заполнить данные по годам >= 1875 и <= 04.2016 [ссылка][Year]\n",
    "    - Power <= 1521 по состоянию на 2016 год [ссылка][Power]\n",
    "    - Kilometer странно что медиана совпадает с max, проверить\n",
    "    - RegistrationMonth >= 1, 0 быть не должно\n",
    "    - NumberOfPictures везде 0. Отставим без изменений. ~~Придется удалить, т.к. не восстановить данные и вероятно значимость данного признака изначально была не высока~~\n",
    "    - PostalCode: минимальное значение [существует][PostalCode_min]  и максимальное [тоже][PostalCode_max]\n",
    "    \n",
    "[Year]: https://www.hotcars.com/the-20-oldest-cars-in-the-world-and-they-still-work/\n",
    "\n",
    "[Power]: https://en.wikipedia.org/wiki/List_of_production_cars_by_power_output\n",
    "\n",
    "[PostalCode_min]: https://postal-codes.cybo.com/netherlands/1067_amsterdam/\n",
    "[PostalCode_max]: https://postal-codes.cybo.com/germany/99998_k%C3%B6rner-germany/\n",
    "\n",
    "\n",
    "3. Анализ остальных колонок:\n",
    "    - колонки DateCrawled,DateCreated,LastSeen не будут использованы при построении модели, т.к.не несут полезной информации. Т.е. будут удалены.\n",
    "4. Выявлено **4 дубликата**, но скорее всего это полное совпадение, что реально. посмотрим на дубликаты, после того как сделаем upgrade данных\n",
    "\n",
    "5. **Типы данных:**\n",
    "    - колонки DateCrawled,DateCreated,LastSeen можно перевести в тип данных date, для анализа,но дальше будут удалены.\n",
    "    - остальные колонки соответствуют своему типу\n",
    "  \n",
    "    \n",
    "    \n",
    "Алгоритм обработки данных:\n",
    "- удалить колонку NumberOfPictures;\n",
    "- изменить типы данных;\n",
    "- работа с выбросами в численных данных;\n",
    "- работа с пропусками;\n",
    "- проверка на дубликаты;\n",
    "- проверить через функцию df_info(cars)"
   ]
  },
  {
   "cell_type": "markdown",
   "metadata": {},
   "source": [
    "~~#### Удаляем столбце NumberOfPictures, т.к. везде 0~~"
   ]
  },
  {
   "cell_type": "code",
   "execution_count": 9,
   "metadata": {},
   "outputs": [],
   "source": [
    "# сделаем копию на будущее\n",
    "cars2 = cars.copy()"
   ]
  },
  {
   "cell_type": "code",
   "execution_count": 10,
   "metadata": {},
   "outputs": [],
   "source": [
    "#cars = cars.drop('NumberOfPictures',axis = 1)\n",
    "#cars.head()"
   ]
  },
  {
   "cell_type": "markdown",
   "metadata": {},
   "source": [
    "#### данные с типом datetime"
   ]
  },
  {
   "cell_type": "code",
   "execution_count": 11,
   "metadata": {},
   "outputs": [
    {
     "data": {
      "text/plain": [
       "329497   2016-03-05 14:06:22\n",
       "220583   2016-03-05 14:06:23\n",
       "176823   2016-03-05 14:06:24\n",
       "99885    2016-03-05 14:06:24\n",
       "324763   2016-03-05 14:06:24\n",
       "                 ...        \n",
       "204218   2016-04-07 14:36:53\n",
       "53739    2016-04-07 14:36:54\n",
       "301030   2016-04-07 14:36:55\n",
       "339649   2016-04-07 14:36:56\n",
       "90713    2016-04-07 14:36:58\n",
       "Name: DateCrawled, Length: 354369, dtype: datetime64[ns]"
      ]
     },
     "execution_count": 11,
     "metadata": {},
     "output_type": "execute_result"
    }
   ],
   "source": [
    "cars[[\"DateCrawled\", \"DateCreated\", \"LastSeen\"]] = cars[[\"DateCrawled\", \"DateCreated\", \"LastSeen\"]].apply(pd.to_datetime)\n",
    "cars['DateCrawled'].sort_values()"
   ]
  },
  {
   "cell_type": "markdown",
   "metadata": {},
   "source": [
    "Данные выкачивали из базы с 5 марта 2016 по 7 апреля 2016, т.е. чуть больше месяца"
   ]
  },
  {
   "cell_type": "code",
   "execution_count": 12,
   "metadata": {},
   "outputs": [
    {
     "data": {
      "text/plain": [
       "61207    2014-03-10\n",
       "4001     2015-03-20\n",
       "342275   2015-06-18\n",
       "86601    2015-08-07\n",
       "175103   2015-08-10\n",
       "            ...    \n",
       "134418   2016-04-07\n",
       "176987   2016-04-07\n",
       "206303   2016-04-07\n",
       "309336   2016-04-07\n",
       "305430   2016-04-07\n",
       "Name: DateCreated, Length: 354369, dtype: datetime64[ns]"
      ]
     },
     "execution_count": 12,
     "metadata": {},
     "output_type": "execute_result"
    }
   ],
   "source": [
    "cars['DateCreated'].sort_values()\n"
   ]
  },
  {
   "cell_type": "code",
   "execution_count": 13,
   "metadata": {},
   "outputs": [
    {
     "data": {
      "text/plain": [
       "2016    354343\n",
       "2015        25\n",
       "2014         1\n",
       "Name: DateCreated, dtype: int64"
      ]
     },
     "execution_count": 13,
     "metadata": {},
     "output_type": "execute_result"
    }
   ],
   "source": [
    "pd.DatetimeIndex(cars['DateCreated']).year.value_counts()"
   ]
  },
  {
   "cell_type": "markdown",
   "metadata": {},
   "source": [
    "Даты создания объявлений с 10 апреля 2014 по 7 апреля 2016 , т.е почти 2 года, но только 26 строк из 2014-2015 гг, а 354343 из 2016 года. Возможно до 2016 года сервис не был публичным, использовался для теста"
   ]
  },
  {
   "cell_type": "code",
   "execution_count": 14,
   "metadata": {},
   "outputs": [
    {
     "data": {
      "text/plain": [
       "3    296757\n",
       "4     57119\n",
       "2       397\n",
       "1        70\n",
       "Name: DateCreated, dtype: int64"
      ]
     },
     "execution_count": 14,
     "metadata": {},
     "output_type": "execute_result"
    }
   ],
   "source": [
    "pd.DatetimeIndex(cars.query('DateCreated>2016')['DateCreated']).month.value_counts()"
   ]
  },
  {
   "cell_type": "markdown",
   "metadata": {},
   "source": [
    "Для 2016 года все данные созданы с января по апрель, все корректно"
   ]
  },
  {
   "cell_type": "code",
   "execution_count": 15,
   "metadata": {},
   "outputs": [
    {
     "data": {
      "text/plain": [
       "296785   2016-03-05 14:15:08\n",
       "262341   2016-03-05 14:15:16\n",
       "130462   2016-03-05 14:15:39\n",
       "285695   2016-03-05 14:18:30\n",
       "169065   2016-03-05 14:25:59\n",
       "                 ...        \n",
       "54852    2016-04-07 14:58:50\n",
       "59506    2016-04-07 14:58:50\n",
       "116344   2016-04-07 14:58:50\n",
       "215705   2016-04-07 14:58:50\n",
       "327303   2016-04-07 14:58:51\n",
       "Name: LastSeen, Length: 354369, dtype: datetime64[ns]"
      ]
     },
     "execution_count": 15,
     "metadata": {},
     "output_type": "execute_result"
    }
   ],
   "source": [
    "cars['LastSeen'].sort_values()"
   ]
  },
  {
   "cell_type": "markdown",
   "metadata": {},
   "source": [
    "#### Дата регистрации авто"
   ]
  },
  {
   "cell_type": "markdown",
   "metadata": {},
   "source": [
    "Данные по активности пользователей говорят нам что самая ранняя была 5 марта 2016, самая поздняя 7 апреля 2016.\n",
    "\n",
    "В целом столбцами где тип данных datetime все корректно.\n",
    "\n",
    "Считаем, что регистрации автомобилей позже апреля 2016 и ранее 1875 года быть не должно.\n",
    "\n",
    "Проверяем:\n"
   ]
  },
  {
   "cell_type": "code",
   "execution_count": 16,
   "metadata": {},
   "outputs": [],
   "source": [
    "def part_of_value(df1,df):\n",
    "    '''\n",
    "    функция высчитывает % данных по определенному условию от полного размера\n",
    "    '''\n",
    "    return df1.shape[0]/df.shape[0]*100"
   ]
  },
  {
   "cell_type": "code",
   "execution_count": 17,
   "metadata": {},
   "outputs": [],
   "source": [
    "def pass_value(df):\n",
    "    '''\n",
    "    функция высчитывает процент пропусков в df\n",
    "    '''\n",
    "    return df.isna().sum()/df.shape[0]*100"
   ]
  },
  {
   "cell_type": "code",
   "execution_count": 18,
   "metadata": {},
   "outputs": [],
   "source": [
    "def pass_replace_3(df,col1,col2,col3,col,index):\n",
    "    '''\n",
    "    функция заменяет в исходном df значения на медианные предварительно группирую по 3 параметрам\n",
    "    '''\n",
    "    tmp = df.groupby([col1,col2,col3])[col].apply(lambda x: x.fillna(x.median()))\n",
    "    df.loc[index,col] = tmp[index]\n",
    "    return df"
   ]
  },
  {
   "cell_type": "code",
   "execution_count": 19,
   "metadata": {},
   "outputs": [
    {
     "data": {
      "text/plain": [
       "5.4423496411932195"
      ]
     },
     "execution_count": 19,
     "metadata": {},
     "output_type": "execute_result"
    }
   ],
   "source": [
    "part_of_value(df1 = cars.query('(RegistrationYear>2016 or (RegistrationYear == 2016 and RegistrationMonth>4) or RegistrationYear<1875)'),\n",
    "              df=cars)\n"
   ]
  },
  {
   "cell_type": "code",
   "execution_count": 20,
   "metadata": {},
   "outputs": [
    {
     "data": {
      "text/plain": [
       "0.01862465396239513"
      ]
     },
     "execution_count": 20,
     "metadata": {},
     "output_type": "execute_result"
    }
   ],
   "source": [
    "part_of_value(df1 = cars.query('RegistrationYear<1875'),\n",
    "              df=cars)"
   ]
  },
  {
   "cell_type": "markdown",
   "metadata": {},
   "source": [
    "таких данных больше 5,4%. ~~удаляем.~~\n",
    "\n",
    "Посмотрим по отдельности:  \n",
    "- до 1875 года около 0,018%\n",
    "- после апреля 2016 года около 5,4%\n",
    "\n",
    "\n",
    "Т.к. временные ряды мы еще не проходили, и делить данные на трейн/тест будем случайным образом, поэтому\n",
    "нет смысла удалять данные после апреля 2016 год, т.к. скорее всего это реальные данные с большим количеством полезной информации, а вот данные до 1875 года, можно удалить. Скорее всего это ошибка ввода.  \n",
    "Таких данных немного."
   ]
  },
  {
   "cell_type": "code",
   "execution_count": 21,
   "metadata": {},
   "outputs": [
    {
     "data": {
      "text/plain": [
       "(354303, 16)"
      ]
     },
     "execution_count": 21,
     "metadata": {},
     "output_type": "execute_result"
    }
   ],
   "source": [
    "cars = cars.drop(cars.query('RegistrationYear<1875').index)\n",
    "cars.shape"
   ]
  },
  {
   "cell_type": "code",
   "execution_count": 22,
   "metadata": {},
   "outputs": [],
   "source": [
    "#cars = cars.drop(cars.query('(RegistrationYear>2016 or (RegistrationYear == 2016 and RegistrationMonth>4) or RegistrationYear<1875)').index)\n",
    "#cars.shape"
   ]
  },
  {
   "cell_type": "markdown",
   "metadata": {},
   "source": [
    "#### столбец Price(таргет)"
   ]
  },
  {
   "cell_type": "markdown",
   "metadata": {},
   "source": [
    "Цена не может быть равной 0. Подбирать/заполнять таргет - плохая идея"
   ]
  },
  {
   "cell_type": "code",
   "execution_count": 23,
   "metadata": {},
   "outputs": [
    {
     "data": {
      "text/plain": [
       "3.036666356197944"
      ]
     },
     "execution_count": 23,
     "metadata": {},
     "output_type": "execute_result"
    }
   ],
   "source": [
    "part_of_value(df1 = cars.query('Price==0'),\n",
    "              df=cars)"
   ]
  },
  {
   "cell_type": "markdown",
   "metadata": {},
   "source": [
    "таких данных более 3%. Будем считать это ошибкой ввода поэтому удаляем."
   ]
  },
  {
   "cell_type": "code",
   "execution_count": 24,
   "metadata": {},
   "outputs": [
    {
     "data": {
      "text/plain": [
       "(343544, 16)"
      ]
     },
     "execution_count": 24,
     "metadata": {},
     "output_type": "execute_result"
    }
   ],
   "source": [
    "cars = cars.drop(cars.query('Price==0').index)\n",
    "cars.shape"
   ]
  },
  {
   "cell_type": "markdown",
   "metadata": {},
   "source": [
    "#### Работа с пропусками"
   ]
  },
  {
   "cell_type": "code",
   "execution_count": 25,
   "metadata": {},
   "outputs": [
    {
     "data": {
      "text/plain": [
       "DateCrawled           0.000000\n",
       "Price                 0.000000\n",
       "VehicleType           9.808642\n",
       "RegistrationYear      0.000000\n",
       "Gearbox               5.038365\n",
       "Power                 0.000000\n",
       "Model                 5.092797\n",
       "Kilometer             0.000000\n",
       "RegistrationMonth     0.000000\n",
       "FuelType              8.562513\n",
       "Brand                 0.000000\n",
       "NotRepaired          19.159700\n",
       "DateCreated           0.000000\n",
       "NumberOfPictures      0.000000\n",
       "PostalCode            0.000000\n",
       "LastSeen              0.000000\n",
       "dtype: float64"
      ]
     },
     "execution_count": 25,
     "metadata": {},
     "output_type": "execute_result"
    }
   ],
   "source": [
    "pass_value(cars)"
   ]
  },
  {
   "cell_type": "markdown",
   "metadata": {},
   "source": [
    "по категориальным признакам имеем пропуски 5-10% , по признаку ремонт 19,2%"
   ]
  },
  {
   "cell_type": "markdown",
   "metadata": {},
   "source": [
    "категориальные признаки необходимо перевести в численные,это понадобится в будущем для построения модели.\n",
    "для этого выделим индексы где есть пропуски, чтобы применить LabelEncoder."
   ]
  },
  {
   "cell_type": "code",
   "execution_count": 26,
   "metadata": {},
   "outputs": [],
   "source": [
    "# определим индексы с пропусками и без для столбцов.\n",
    "VT_NAN_index = cars.query('VehicleType!=VehicleType')['VehicleType'].index\n",
    "VT_index = cars.query('VehicleType==VehicleType')['VehicleType'].index\n",
    "\n",
    "Gearbox_NAN_index = cars.query('Gearbox!=Gearbox')['Gearbox'].index\n",
    "Gearbox_index = cars.query('Gearbox==Gearbox')['Gearbox'].index\n",
    "\n",
    "Model_NAN_index = cars.query('Model!=Model')['Model'].index\n",
    "Model_index = cars.query('Model==Model')['Model'].index\n",
    "\n",
    "FuelType_NAN_index = cars.query('FuelType!=FuelType')['FuelType'].index\n",
    "FuelType_index = cars.query('FuelType==FuelType')['FuelType'].index\n",
    "\n",
    "\n",
    "Brand_NAN_index = cars.query('Brand!=Brand')['Brand'].index\n",
    "Brand_index = cars.query('Brand==Brand')['Brand'].index\n",
    "\n",
    "\n",
    "NotRepaired_NAN_index = cars.query('NotRepaired!=NotRepaired')['NotRepaired'].index\n",
    "NotRepaired_index = cars.query('NotRepaired==NotRepaired')['NotRepaired'].index"
   ]
  },
  {
   "cell_type": "markdown",
   "metadata": {},
   "source": [
    "Для дальнейшей работе по замене пропусков и выбросов перейдем к численным данным.  \n",
    "Для это применим LabelEncoder"
   ]
  },
  {
   "cell_type": "code",
   "execution_count": 27,
   "metadata": {},
   "outputs": [],
   "source": [
    "le = preprocessing.LabelEncoder()"
   ]
  },
  {
   "cell_type": "code",
   "execution_count": 28,
   "metadata": {},
   "outputs": [
    {
     "data": {
      "text/html": [
       "<div>\n",
       "<style scoped>\n",
       "    .dataframe tbody tr th:only-of-type {\n",
       "        vertical-align: middle;\n",
       "    }\n",
       "\n",
       "    .dataframe tbody tr th {\n",
       "        vertical-align: top;\n",
       "    }\n",
       "\n",
       "    .dataframe thead th {\n",
       "        text-align: right;\n",
       "    }\n",
       "</style>\n",
       "<table border=\"1\" class=\"dataframe\">\n",
       "  <thead>\n",
       "    <tr style=\"text-align: right;\">\n",
       "      <th></th>\n",
       "      <th>DateCrawled</th>\n",
       "      <th>Price</th>\n",
       "      <th>VehicleType</th>\n",
       "      <th>RegistrationYear</th>\n",
       "      <th>Gearbox</th>\n",
       "      <th>Power</th>\n",
       "      <th>Model</th>\n",
       "      <th>Kilometer</th>\n",
       "      <th>RegistrationMonth</th>\n",
       "      <th>FuelType</th>\n",
       "      <th>Brand</th>\n",
       "      <th>NotRepaired</th>\n",
       "      <th>DateCreated</th>\n",
       "      <th>NumberOfPictures</th>\n",
       "      <th>PostalCode</th>\n",
       "      <th>LastSeen</th>\n",
       "    </tr>\n",
       "  </thead>\n",
       "  <tbody>\n",
       "    <tr>\n",
       "      <td>0</td>\n",
       "      <td>2016-03-24 11:52:17</td>\n",
       "      <td>480</td>\n",
       "      <td>NaN</td>\n",
       "      <td>1993</td>\n",
       "      <td>1</td>\n",
       "      <td>0</td>\n",
       "      <td>116</td>\n",
       "      <td>150000</td>\n",
       "      <td>0</td>\n",
       "      <td>6</td>\n",
       "      <td>38</td>\n",
       "      <td>NaN</td>\n",
       "      <td>2016-03-24</td>\n",
       "      <td>0</td>\n",
       "      <td>70435</td>\n",
       "      <td>2016-04-07 03:16:57</td>\n",
       "    </tr>\n",
       "    <tr>\n",
       "      <td>1</td>\n",
       "      <td>2016-03-24 10:58:45</td>\n",
       "      <td>18300</td>\n",
       "      <td>2</td>\n",
       "      <td>2011</td>\n",
       "      <td>1</td>\n",
       "      <td>190</td>\n",
       "      <td>NaN</td>\n",
       "      <td>125000</td>\n",
       "      <td>5</td>\n",
       "      <td>2</td>\n",
       "      <td>1</td>\n",
       "      <td>1</td>\n",
       "      <td>2016-03-24</td>\n",
       "      <td>0</td>\n",
       "      <td>66954</td>\n",
       "      <td>2016-04-07 01:46:50</td>\n",
       "    </tr>\n",
       "    <tr>\n",
       "      <td>2</td>\n",
       "      <td>2016-03-14 12:52:21</td>\n",
       "      <td>9800</td>\n",
       "      <td>6</td>\n",
       "      <td>2004</td>\n",
       "      <td>0</td>\n",
       "      <td>163</td>\n",
       "      <td>117</td>\n",
       "      <td>125000</td>\n",
       "      <td>8</td>\n",
       "      <td>2</td>\n",
       "      <td>14</td>\n",
       "      <td>NaN</td>\n",
       "      <td>2016-03-14</td>\n",
       "      <td>0</td>\n",
       "      <td>90480</td>\n",
       "      <td>2016-04-05 12:47:46</td>\n",
       "    </tr>\n",
       "    <tr>\n",
       "      <td>3</td>\n",
       "      <td>2016-03-17 16:54:04</td>\n",
       "      <td>1500</td>\n",
       "      <td>5</td>\n",
       "      <td>2001</td>\n",
       "      <td>1</td>\n",
       "      <td>75</td>\n",
       "      <td>116</td>\n",
       "      <td>150000</td>\n",
       "      <td>6</td>\n",
       "      <td>6</td>\n",
       "      <td>38</td>\n",
       "      <td>0</td>\n",
       "      <td>2016-03-17</td>\n",
       "      <td>0</td>\n",
       "      <td>91074</td>\n",
       "      <td>2016-03-17 17:40:17</td>\n",
       "    </tr>\n",
       "    <tr>\n",
       "      <td>4</td>\n",
       "      <td>2016-03-31 17:25:20</td>\n",
       "      <td>3600</td>\n",
       "      <td>5</td>\n",
       "      <td>2008</td>\n",
       "      <td>1</td>\n",
       "      <td>69</td>\n",
       "      <td>101</td>\n",
       "      <td>90000</td>\n",
       "      <td>7</td>\n",
       "      <td>2</td>\n",
       "      <td>31</td>\n",
       "      <td>0</td>\n",
       "      <td>2016-03-31</td>\n",
       "      <td>0</td>\n",
       "      <td>60437</td>\n",
       "      <td>2016-04-06 10:17:21</td>\n",
       "    </tr>\n",
       "  </tbody>\n",
       "</table>\n",
       "</div>"
      ],
      "text/plain": [
       "          DateCrawled  Price VehicleType  RegistrationYear Gearbox  Power  \\\n",
       "0 2016-03-24 11:52:17    480         NaN              1993       1      0   \n",
       "1 2016-03-24 10:58:45  18300           2              2011       1    190   \n",
       "2 2016-03-14 12:52:21   9800           6              2004       0    163   \n",
       "3 2016-03-17 16:54:04   1500           5              2001       1     75   \n",
       "4 2016-03-31 17:25:20   3600           5              2008       1     69   \n",
       "\n",
       "  Model  Kilometer  RegistrationMonth FuelType  Brand NotRepaired DateCreated  \\\n",
       "0   116     150000                  0        6     38         NaN  2016-03-24   \n",
       "1   NaN     125000                  5        2      1           1  2016-03-24   \n",
       "2   117     125000                  8        2     14         NaN  2016-03-14   \n",
       "3   116     150000                  6        6     38           0  2016-03-17   \n",
       "4   101      90000                  7        2     31           0  2016-03-31   \n",
       "\n",
       "   NumberOfPictures  PostalCode            LastSeen  \n",
       "0                 0       70435 2016-04-07 03:16:57  \n",
       "1                 0       66954 2016-04-07 01:46:50  \n",
       "2                 0       90480 2016-04-05 12:47:46  \n",
       "3                 0       91074 2016-03-17 17:40:17  \n",
       "4                 0       60437 2016-04-06 10:17:21  "
      ]
     },
     "execution_count": 28,
     "metadata": {},
     "output_type": "execute_result"
    }
   ],
   "source": [
    "cars.loc[VT_index,'VehicleType'] = le.fit_transform(cars.loc[VT_index,'VehicleType'])\n",
    "\n",
    "cars.loc[Gearbox_index,'Gearbox'] = le.fit_transform(cars.loc[Gearbox_index,'Gearbox'])\n",
    "\n",
    "cars.loc[Model_index,'Model'] = le.fit_transform(cars.loc[Model_index,'Model'])\n",
    "\n",
    "cars.loc[FuelType_index,'FuelType'] = le.fit_transform(cars.loc[FuelType_index,'FuelType'])\n",
    "\n",
    "cars.loc[Brand_index,'Brand'] = le.fit_transform(cars.loc[Brand_index,'Brand'])\n",
    "\n",
    "cars.loc[NotRepaired_index,'NotRepaired'] = le.fit_transform(cars.loc[NotRepaired_index,'NotRepaired'])\n",
    "\n",
    "cars.head()"
   ]
  },
  {
   "cell_type": "markdown",
   "metadata": {},
   "source": [
    "Сначал заполним пропуски в столбце \"Model\", далее заполним пропуски в остальных данных на основании столбца \"Model\".\n"
   ]
  },
  {
   "cell_type": "code",
   "execution_count": 29,
   "metadata": {},
   "outputs": [
    {
     "name": "stderr",
     "output_type": "stream",
     "text": [
      "/opt/conda/lib/python3.7/site-packages/numpy/lib/nanfunctions.py:1111: RuntimeWarning: Mean of empty slice\n",
      "  return np.nanmean(a, axis, out=out, keepdims=keepdims)\n"
     ]
    },
    {
     "data": {
      "text/plain": [
       "DateCrawled          0.000000\n",
       "Price                0.000000\n",
       "VehicleType          4.411371\n",
       "RegistrationYear     0.000000\n",
       "Gearbox              0.334455\n",
       "Power                0.000000\n",
       "Model                1.162879\n",
       "Kilometer            0.000000\n",
       "RegistrationMonth    0.000000\n",
       "FuelType             0.454090\n",
       "Brand                0.000000\n",
       "NotRepaired          1.237687\n",
       "DateCreated          0.000000\n",
       "NumberOfPictures     0.000000\n",
       "PostalCode           0.000000\n",
       "LastSeen             0.000000\n",
       "dtype: float64"
      ]
     },
     "execution_count": 29,
     "metadata": {},
     "output_type": "execute_result"
    }
   ],
   "source": [
    "pass_replace_3(df = cars ,col1 = 'Brand' ,col2 = 'Power',col3 = 'RegistrationYear',col = 'Model',index = Model_NAN_index)\n",
    "pass_replace_3(df = cars ,col1 = 'Brand' ,col2 = 'Model',col3 = 'RegistrationYear',col = 'VehicleType',index = VT_NAN_index)\n",
    "pass_replace_3(df = cars ,col1 = 'Brand' ,col2 = 'Model',col3 = 'RegistrationYear',col = 'Gearbox',index = Gearbox_NAN_index)\n",
    "pass_replace_3(df = cars ,col1 = 'Brand' ,col2 = 'Model',col3 = 'RegistrationYear',col = 'FuelType',index = FuelType_NAN_index)\n",
    "\n",
    "pass_replace_3(df = cars ,col1 = 'Model' ,col2 = 'Kilometer',col3 = 'RegistrationYear',col = 'NotRepaired',index = NotRepaired_NAN_index)\n",
    "pass_value(cars)"
   ]
  },
  {
   "cell_type": "markdown",
   "metadata": {},
   "source": [
    "Пропусков осталось не более 4,4 %.\n",
    "Теперь заполним пропуски по 2 признакам"
   ]
  },
  {
   "cell_type": "code",
   "execution_count": 30,
   "metadata": {},
   "outputs": [],
   "source": [
    "def pass_replace_2(df,col1,col2,col,index):\n",
    "    '''\n",
    "    функция заменяет в исходном df значения на медианные предварительно группируя по 2 параметрам\n",
    "    '''\n",
    "    tmp = df.groupby([col1,col2])[col].apply(lambda x: x.fillna(x.median()))\n",
    "    df.loc[index,col] = tmp[index]\n",
    "    return df"
   ]
  },
  {
   "cell_type": "code",
   "execution_count": 31,
   "metadata": {},
   "outputs": [
    {
     "data": {
      "text/plain": [
       "DateCrawled          0.000000\n",
       "Price                0.000000\n",
       "VehicleType          0.221515\n",
       "RegistrationYear     0.000000\n",
       "Gearbox              0.275656\n",
       "Power                0.000000\n",
       "Model                0.837447\n",
       "Kilometer            0.000000\n",
       "RegistrationMonth    0.000000\n",
       "FuelType             0.314661\n",
       "Brand                0.000000\n",
       "NotRepaired          0.323685\n",
       "DateCreated          0.000000\n",
       "NumberOfPictures     0.000000\n",
       "PostalCode           0.000000\n",
       "LastSeen             0.000000\n",
       "dtype: float64"
      ]
     },
     "execution_count": 31,
     "metadata": {},
     "output_type": "execute_result"
    }
   ],
   "source": [
    "pass_replace_2(df = cars ,col1 = 'Brand' ,col2 = 'RegistrationYear',col = 'Model',index = Model_NAN_index)\n",
    "pass_replace_2(df = cars ,col1 = 'Brand' ,col2 = 'Model',col = 'VehicleType',index = VT_NAN_index)\n",
    "pass_replace_2(df = cars ,col1 = 'Model' ,col2 = 'RegistrationYear',col = 'Gearbox',index = Gearbox_NAN_index)\n",
    "pass_replace_2(df = cars ,col1 = 'Model' ,col2 = 'RegistrationYear',col = 'FuelType',index = FuelType_NAN_index)\n",
    "pass_replace_2(df = cars ,col1 = 'Model' ,col2 = 'Kilometer',col = 'NotRepaired',index = NotRepaired_NAN_index)\n",
    "\n",
    "pass_value(cars)"
   ]
  },
  {
   "cell_type": "markdown",
   "metadata": {},
   "source": [
    "Пропусков осталось не более 0,84 %. Пока не удаляем. Вернемся после чистки по другим колонкам."
   ]
  },
  {
   "cell_type": "markdown",
   "metadata": {},
   "source": [
    "#### Работа с выбросами"
   ]
  },
  {
   "cell_type": "code",
   "execution_count": 32,
   "metadata": {},
   "outputs": [
    {
     "data": {
      "text/plain": [
       "<matplotlib.axes._subplots.AxesSubplot at 0x7fb0e8a15550>"
      ]
     },
     "execution_count": 32,
     "metadata": {},
     "output_type": "execute_result"
    },
    {
     "data": {
      "image/png": "[encoded data removed]",
      "text/plain": [
       "<Figure size 432x288 with 1 Axes>"
      ]
     },
     "metadata": {
      "needs_background": "light"
     },
     "output_type": "display_data"
    }
   ],
   "source": [
    "sns.distplot(cars.Kilometer)\n"
   ]
  },
  {
   "cell_type": "markdown",
   "metadata": {},
   "source": [
    "Пробег большинства авто около 150000 км. Странно , что максимальный пробег = 150000, возможно это ограничение сервиса.\n",
    "Не трогаем."
   ]
  },
  {
   "cell_type": "code",
   "execution_count": 33,
   "metadata": {},
   "outputs": [
    {
     "data": {
      "text/plain": [
       "9.559474186712619"
      ]
     },
     "execution_count": 33,
     "metadata": {},
     "output_type": "execute_result"
    }
   ],
   "source": [
    "part_of_value(df1 = cars.query('RegistrationMonth==0'),\n",
    "              df=cars)"
   ]
  },
  {
   "cell_type": "code",
   "execution_count": 34,
   "metadata": {},
   "outputs": [
    {
     "data": {
      "text/plain": [
       "<matplotlib.axes._subplots.AxesSubplot at 0x7fb039627750>"
      ]
     },
     "execution_count": 34,
     "metadata": {},
     "output_type": "execute_result"
    },
    {
     "data": {
      "image/png": "[encoded data removed]",
      "text/plain": [
       "<Figure size 432x288 with 1 Axes>"
      ]
     },
     "metadata": {
      "needs_background": "light"
     },
     "output_type": "display_data"
    }
   ],
   "source": [
    "sns.distplot(cars.RegistrationMonth)"
   ]
  },
  {
   "cell_type": "markdown",
   "metadata": {},
   "source": [
    "Более 9% значений месяца = 0, что много.  \n",
    "При этом в 12 месяце значений около этой же величины, а в 1 месяце более чем в 2,5 раза меньше. \n",
    "Согласно статистике продажа авто имеет сезонность. Основная просадка приходится на январь, что совпадает с нашими данными:\n",
    "![](https://pandia.ru/text/81/503/images/img57_7.png)\n",
    "Т.е. в 1 месяце продажи обычно всегд низкие, поэтому предположить, что 0 можно заменить на 1 не правильно.\n",
    "\n"
   ]
  },
  {
   "cell_type": "markdown",
   "metadata": {},
   "source": [
    "у нас получается 29437 записей где месяц регистрации = 0. "
   ]
  },
  {
   "cell_type": "code",
   "execution_count": 35,
   "metadata": {},
   "outputs": [
    {
     "data": {
      "text/plain": [
       "32841"
      ]
     },
     "execution_count": 35,
     "metadata": {},
     "output_type": "execute_result"
    }
   ],
   "source": [
    "cars.query('RegistrationMonth == 0').shape[0]"
   ]
  },
  {
   "cell_type": "markdown",
   "metadata": {},
   "source": [
    " \n",
    "распеределим эти записи пропорционально доли каждого месяца по соответсвтующим месяцам случайным образом."
   ]
  },
  {
   "cell_type": "code",
   "execution_count": 36,
   "metadata": {},
   "outputs": [],
   "source": [
    "frac_list = []\n",
    "for i in range(1,13):\n",
    "    '''\n",
    "    создадим список с размерами \"месяцев регистрации\" относительно RegistrationMonth == 0 \n",
    "    рассчитаем сколько записей из 0 месяца надо передать в каждый месяц\n",
    "    '''\n",
    "    frac = cars.query('RegistrationMonth==@i').shape[0]/(cars.shape[0]-cars.query('RegistrationMonth == 0').shape[0])\n",
    "    n_size = round(cars.query('RegistrationMonth == 0').shape[0]*frac)\n",
    "    frac_list.append(n_size)"
   ]
  },
  {
   "cell_type": "code",
   "execution_count": 37,
   "metadata": {},
   "outputs": [
    {
     "data": {
      "text/plain": [
       "-1"
      ]
     },
     "execution_count": 37,
     "metadata": {},
     "output_type": "execute_result"
    }
   ],
   "source": [
    "# проверка окргуления\n",
    "sum(frac_list)-cars.query('RegistrationMonth == 0').shape[0]\n",
    "# вот такая дельта"
   ]
  },
  {
   "cell_type": "code",
   "execution_count": 38,
   "metadata": {},
   "outputs": [
    {
     "data": {
      "text/plain": [
       "0"
      ]
     },
     "execution_count": 38,
     "metadata": {},
     "output_type": "execute_result"
    }
   ],
   "source": [
    "# округление дало сбой, поэтому добавим в 12 месяц + 1\n",
    "frac_list[11] = frac_list[11]+1\n",
    "sum(frac_list)-cars.query('RegistrationMonth == 0').shape[0]"
   ]
  },
  {
   "cell_type": "code",
   "execution_count": 39,
   "metadata": {},
   "outputs": [],
   "source": [
    "all_idx = np.array(cars.query('RegistrationMonth==0').index)\n",
    "for month,i in enumerate(frac_list):\n",
    "    #print(all_idx.size)\n",
    "    '''\n",
    "    заменяем значения в столбце RegistrationMonth == 0  на номера месяцев с 1 по 12 пропорционально их доле\n",
    "    \n",
    "    '''\n",
    "    idx = np.random.choice(all_idx, size=i,replace=False)\n",
    "    cars.loc[idx,'RegistrationMonth'] = (month+1)\n",
    "    all_idx = all_idx[~np.isin(all_idx, idx)]\n"
   ]
  },
  {
   "cell_type": "code",
   "execution_count": 40,
   "metadata": {},
   "outputs": [
    {
     "data": {
      "text/plain": [
       "<matplotlib.axes._subplots.AxesSubplot at 0x7fb03a23f2d0>"
      ]
     },
     "execution_count": 40,
     "metadata": {},
     "output_type": "execute_result"
    },
    {
     "data": {
      "image/png": "[encoded data removed]",
      "text/plain": [
       "<Figure size 432x288 with 1 Axes>"
      ]
     },
     "metadata": {
      "needs_background": "light"
     },
     "output_type": "display_data"
    }
   ],
   "source": [
    "sns.distplot(cars.RegistrationMonth)"
   ]
  },
  {
   "cell_type": "code",
   "execution_count": 41,
   "metadata": {},
   "outputs": [
    {
     "data": {
      "text/plain": [
       "0.0"
      ]
     },
     "execution_count": 41,
     "metadata": {},
     "output_type": "execute_result"
    }
   ],
   "source": [
    "part_of_value(df1 = cars.query('RegistrationMonth==0'),\n",
    "              df=cars)"
   ]
  },
  {
   "cell_type": "markdown",
   "metadata": {},
   "source": [
    "Месяц == 0 отсутствует, значение перераспеределены."
   ]
  },
  {
   "cell_type": "markdown",
   "metadata": {},
   "source": [
    "**Мощность двигателя** не может быть более 1521 л.с.. согласно информации из интернета."
   ]
  },
  {
   "cell_type": "code",
   "execution_count": 42,
   "metadata": {},
   "outputs": [
    {
     "data": {
      "text/plain": [
       "0.05268611880865333"
      ]
     },
     "execution_count": 42,
     "metadata": {},
     "output_type": "execute_result"
    }
   ],
   "source": [
    "part_of_value(df1 = cars.query('Power>1521'),\n",
    "              df=cars)"
   ]
  },
  {
   "cell_type": "markdown",
   "metadata": {},
   "source": [
    "Примерно 0,5% данных где мощнось двигателя превышает максимальную на 2016 год.  \n",
    "Будем удалять."
   ]
  },
  {
   "cell_type": "code",
   "execution_count": 43,
   "metadata": {},
   "outputs": [],
   "source": [
    "cars = cars.drop(cars.query('Power>1521').index)"
   ]
  },
  {
   "cell_type": "markdown",
   "metadata": {},
   "source": [
    "Теперь посмотрим на пропуски, которые остались ранее.  \n",
    "Выполним удаление."
   ]
  },
  {
   "cell_type": "code",
   "execution_count": 44,
   "metadata": {},
   "outputs": [
    {
     "name": "stdout",
     "output_type": "stream",
     "text": [
      "++++++++++++++++++++++++++++++++++++++++++++++++++++++++++++++++++++++++++++++++\n",
      "<class 'pandas.core.frame.DataFrame'>\n",
      "Int64Index: 343363 entries, 0 to 354368\n",
      "Data columns (total 16 columns):\n",
      "DateCrawled          343363 non-null datetime64[ns]\n",
      "Price                343363 non-null int64\n",
      "VehicleType          342602 non-null object\n",
      "RegistrationYear     343363 non-null int64\n",
      "Gearbox              342418 non-null object\n",
      "Power                343363 non-null int64\n",
      "Model                340487 non-null object\n",
      "Kilometer            343363 non-null int64\n",
      "RegistrationMonth    343363 non-null int64\n",
      "FuelType             342283 non-null object\n",
      "Brand                343363 non-null int64\n",
      "NotRepaired          342251 non-null object\n",
      "DateCreated          343363 non-null datetime64[ns]\n",
      "NumberOfPictures     343363 non-null int64\n",
      "PostalCode           343363 non-null int64\n",
      "LastSeen             343363 non-null datetime64[ns]\n",
      "dtypes: datetime64[ns](3), int64(8), object(5)\n",
      "memory usage: 44.5+ MB\n",
      "++++++++++++++++++++++++++++++++++++++++++++++++++++++++++++++++++++++++++++++++\n",
      "Описание количественных переменных:\n",
      "               Price  RegistrationYear          Power      Kilometer  \\\n",
      "count  343363.000000     343363.000000  343363.000000  343363.000000   \n",
      "mean     4556.113530       2004.205928     107.956949  128357.772969   \n",
      "std      4515.445995         77.511403      66.609800   37489.101016   \n",
      "min         1.000000       1910.000000       0.000000    5000.000000   \n",
      "25%      1200.000000       1999.000000      69.000000  125000.000000   \n",
      "50%      2890.000000       2003.000000     105.000000  150000.000000   \n",
      "max     20000.000000       9999.000000    1521.000000  150000.000000   \n",
      "\n",
      "       RegistrationMonth          Brand  NumberOfPictures     PostalCode  \n",
      "count      343363.000000  343363.000000          343363.0  343363.000000  \n",
      "mean            6.389302      20.875228               0.0   50687.387459  \n",
      "std             3.349103      13.290064               0.0   25743.872116  \n",
      "min             1.000000       0.000000               0.0    1067.000000  \n",
      "25%             4.000000       9.000000               0.0   30449.000000  \n",
      "50%             6.000000      24.000000               0.0   49525.000000  \n",
      "max            12.000000      39.000000               0.0   99998.000000  \n",
      "++++++++++++++++++++++++++++++++++++++++++++++++++++++++++++++++++++++++++++++++\n",
      "количество дубликатов в таблице = 5\n"
     ]
    }
   ],
   "source": [
    "df_info(cars)"
   ]
  },
  {
   "cell_type": "code",
   "execution_count": 45,
   "metadata": {},
   "outputs": [],
   "source": [
    "cars = cars.drop(cars.query('VehicleType!=VehicleType or Gearbox!=Gearbox or Model!=Model or FuelType!=FuelType or NotRepaired!=NotRepaired').index)"
   ]
  },
  {
   "cell_type": "code",
   "execution_count": 46,
   "metadata": {},
   "outputs": [
    {
     "name": "stdout",
     "output_type": "stream",
     "text": [
      "++++++++++++++++++++++++++++++++++++++++++++++++++++++++++++++++++++++++++++++++\n",
      "<class 'pandas.core.frame.DataFrame'>\n",
      "Int64Index: 339865 entries, 0 to 354368\n",
      "Data columns (total 16 columns):\n",
      "DateCrawled          339865 non-null datetime64[ns]\n",
      "Price                339865 non-null int64\n",
      "VehicleType          339865 non-null object\n",
      "RegistrationYear     339865 non-null int64\n",
      "Gearbox              339865 non-null object\n",
      "Power                339865 non-null int64\n",
      "Model                339865 non-null object\n",
      "Kilometer            339865 non-null int64\n",
      "RegistrationMonth    339865 non-null int64\n",
      "FuelType             339865 non-null object\n",
      "Brand                339865 non-null int64\n",
      "NotRepaired          339865 non-null object\n",
      "DateCreated          339865 non-null datetime64[ns]\n",
      "NumberOfPictures     339865 non-null int64\n",
      "PostalCode           339865 non-null int64\n",
      "LastSeen             339865 non-null datetime64[ns]\n",
      "dtypes: datetime64[ns](3), int64(8), object(5)\n",
      "memory usage: 44.1+ MB\n",
      "++++++++++++++++++++++++++++++++++++++++++++++++++++++++++++++++++++++++++++++++\n",
      "Описание количественных переменных:\n",
      "               Price  RegistrationYear          Power      Kilometer  \\\n",
      "count  339865.000000     339865.000000  339865.000000  339865.000000   \n",
      "mean     4546.261839       2003.363053     108.122063  128753.196122   \n",
      "std      4504.086831         19.477994      66.044017   37009.028031   \n",
      "min         1.000000       1910.000000       0.000000    5000.000000   \n",
      "25%      1200.000000       1999.000000      69.000000  125000.000000   \n",
      "50%      2850.000000       2003.000000     105.000000  150000.000000   \n",
      "max     20000.000000       6500.000000    1521.000000  150000.000000   \n",
      "\n",
      "       RegistrationMonth          Brand  NumberOfPictures     PostalCode  \n",
      "count      339865.000000  339865.000000          339865.0  339865.000000  \n",
      "mean            6.392379      20.778156               0.0   50709.309629  \n",
      "std             3.348884      13.299697               0.0   25725.127528  \n",
      "min             1.000000       0.000000               0.0    1067.000000  \n",
      "25%             4.000000       9.000000               0.0   30455.000000  \n",
      "50%             6.000000      24.000000               0.0   49536.000000  \n",
      "max            12.000000      39.000000               0.0   99998.000000  \n",
      "++++++++++++++++++++++++++++++++++++++++++++++++++++++++++++++++++++++++++++++++\n",
      "количество дубликатов в таблице = 5\n"
     ]
    }
   ],
   "source": [
    "df_info(cars)"
   ]
  },
  {
   "cell_type": "markdown",
   "metadata": {},
   "source": [
    "Посмотрим строки где все данные дублируются.  \n",
    "Т.к. кроме данных дублируется и время подачи, просмотра и создания, то это баг.  \n",
    "Удаляем!"
   ]
  },
  {
   "cell_type": "code",
   "execution_count": 47,
   "metadata": {},
   "outputs": [
    {
     "data": {
      "text/html": [
       "<div>\n",
       "<style scoped>\n",
       "    .dataframe tbody tr th:only-of-type {\n",
       "        vertical-align: middle;\n",
       "    }\n",
       "\n",
       "    .dataframe tbody tr th {\n",
       "        vertical-align: top;\n",
       "    }\n",
       "\n",
       "    .dataframe thead th {\n",
       "        text-align: right;\n",
       "    }\n",
       "</style>\n",
       "<table border=\"1\" class=\"dataframe\">\n",
       "  <thead>\n",
       "    <tr style=\"text-align: right;\">\n",
       "      <th></th>\n",
       "      <th>DateCrawled</th>\n",
       "      <th>Price</th>\n",
       "      <th>VehicleType</th>\n",
       "      <th>RegistrationYear</th>\n",
       "      <th>Gearbox</th>\n",
       "      <th>Power</th>\n",
       "      <th>Model</th>\n",
       "      <th>Kilometer</th>\n",
       "      <th>RegistrationMonth</th>\n",
       "      <th>FuelType</th>\n",
       "      <th>Brand</th>\n",
       "      <th>NotRepaired</th>\n",
       "      <th>DateCreated</th>\n",
       "      <th>NumberOfPictures</th>\n",
       "      <th>PostalCode</th>\n",
       "      <th>LastSeen</th>\n",
       "    </tr>\n",
       "  </thead>\n",
       "  <tbody>\n",
       "    <tr>\n",
       "      <td>41529</td>\n",
       "      <td>2016-03-18 18:46:15</td>\n",
       "      <td>1999</td>\n",
       "      <td>7</td>\n",
       "      <td>2001</td>\n",
       "      <td>1</td>\n",
       "      <td>131</td>\n",
       "      <td>170</td>\n",
       "      <td>150000</td>\n",
       "      <td>7</td>\n",
       "      <td>2</td>\n",
       "      <td>38</td>\n",
       "      <td>0</td>\n",
       "      <td>2016-03-18</td>\n",
       "      <td>0</td>\n",
       "      <td>36391</td>\n",
       "      <td>2016-03-18 18:46:15</td>\n",
       "    </tr>\n",
       "    <tr>\n",
       "      <td>88087</td>\n",
       "      <td>2016-03-08 18:42:48</td>\n",
       "      <td>1799</td>\n",
       "      <td>2</td>\n",
       "      <td>1999</td>\n",
       "      <td>0</td>\n",
       "      <td>193</td>\n",
       "      <td>76</td>\n",
       "      <td>20000</td>\n",
       "      <td>7</td>\n",
       "      <td>6</td>\n",
       "      <td>20</td>\n",
       "      <td>0</td>\n",
       "      <td>2016-03-08</td>\n",
       "      <td>0</td>\n",
       "      <td>89518</td>\n",
       "      <td>2016-03-09 09:46:57</td>\n",
       "    </tr>\n",
       "    <tr>\n",
       "      <td>90964</td>\n",
       "      <td>2016-03-28 00:56:10</td>\n",
       "      <td>1000</td>\n",
       "      <td>5</td>\n",
       "      <td>2002</td>\n",
       "      <td>1</td>\n",
       "      <td>83</td>\n",
       "      <td>166</td>\n",
       "      <td>150000</td>\n",
       "      <td>1</td>\n",
       "      <td>6</td>\n",
       "      <td>35</td>\n",
       "      <td>0</td>\n",
       "      <td>2016-03-28</td>\n",
       "      <td>0</td>\n",
       "      <td>66589</td>\n",
       "      <td>2016-03-28 08:46:21</td>\n",
       "    </tr>\n",
       "    <tr>\n",
       "      <td>171088</td>\n",
       "      <td>2016-03-08 18:42:48</td>\n",
       "      <td>1799</td>\n",
       "      <td>2</td>\n",
       "      <td>1999</td>\n",
       "      <td>0</td>\n",
       "      <td>193</td>\n",
       "      <td>76</td>\n",
       "      <td>20000</td>\n",
       "      <td>7</td>\n",
       "      <td>6</td>\n",
       "      <td>20</td>\n",
       "      <td>0</td>\n",
       "      <td>2016-03-08</td>\n",
       "      <td>0</td>\n",
       "      <td>89518</td>\n",
       "      <td>2016-03-09 09:46:57</td>\n",
       "    </tr>\n",
       "    <tr>\n",
       "      <td>187735</td>\n",
       "      <td>2016-04-03 09:01:15</td>\n",
       "      <td>4699</td>\n",
       "      <td>2</td>\n",
       "      <td>2003</td>\n",
       "      <td>0</td>\n",
       "      <td>218</td>\n",
       "      <td>76</td>\n",
       "      <td>125000</td>\n",
       "      <td>6</td>\n",
       "      <td>6</td>\n",
       "      <td>20</td>\n",
       "      <td>1</td>\n",
       "      <td>2016-04-03</td>\n",
       "      <td>0</td>\n",
       "      <td>75196</td>\n",
       "      <td>2016-04-07 09:44:54</td>\n",
       "    </tr>\n",
       "    <tr>\n",
       "      <td>189060</td>\n",
       "      <td>2016-04-04 22:50:44</td>\n",
       "      <td>13000</td>\n",
       "      <td>4</td>\n",
       "      <td>2008</td>\n",
       "      <td>1</td>\n",
       "      <td>143</td>\n",
       "      <td>29</td>\n",
       "      <td>125000</td>\n",
       "      <td>9</td>\n",
       "      <td>2</td>\n",
       "      <td>1</td>\n",
       "      <td>0</td>\n",
       "      <td>2016-04-04</td>\n",
       "      <td>0</td>\n",
       "      <td>65428</td>\n",
       "      <td>2016-04-05 12:30:14</td>\n",
       "    </tr>\n",
       "    <tr>\n",
       "      <td>194008</td>\n",
       "      <td>2016-04-04 22:50:44</td>\n",
       "      <td>13000</td>\n",
       "      <td>4</td>\n",
       "      <td>2008</td>\n",
       "      <td>1</td>\n",
       "      <td>143</td>\n",
       "      <td>29</td>\n",
       "      <td>125000</td>\n",
       "      <td>9</td>\n",
       "      <td>2</td>\n",
       "      <td>1</td>\n",
       "      <td>0</td>\n",
       "      <td>2016-04-04</td>\n",
       "      <td>0</td>\n",
       "      <td>65428</td>\n",
       "      <td>2016-04-05 12:30:14</td>\n",
       "    </tr>\n",
       "    <tr>\n",
       "      <td>231258</td>\n",
       "      <td>2016-03-28 00:56:10</td>\n",
       "      <td>1000</td>\n",
       "      <td>5</td>\n",
       "      <td>2002</td>\n",
       "      <td>1</td>\n",
       "      <td>83</td>\n",
       "      <td>166</td>\n",
       "      <td>150000</td>\n",
       "      <td>1</td>\n",
       "      <td>6</td>\n",
       "      <td>35</td>\n",
       "      <td>0</td>\n",
       "      <td>2016-03-28</td>\n",
       "      <td>0</td>\n",
       "      <td>66589</td>\n",
       "      <td>2016-03-28 08:46:21</td>\n",
       "    </tr>\n",
       "    <tr>\n",
       "      <td>258109</td>\n",
       "      <td>2016-04-03 09:01:15</td>\n",
       "      <td>4699</td>\n",
       "      <td>2</td>\n",
       "      <td>2003</td>\n",
       "      <td>0</td>\n",
       "      <td>218</td>\n",
       "      <td>76</td>\n",
       "      <td>125000</td>\n",
       "      <td>6</td>\n",
       "      <td>6</td>\n",
       "      <td>20</td>\n",
       "      <td>1</td>\n",
       "      <td>2016-04-03</td>\n",
       "      <td>0</td>\n",
       "      <td>75196</td>\n",
       "      <td>2016-04-07 09:44:54</td>\n",
       "    </tr>\n",
       "    <tr>\n",
       "      <td>325651</td>\n",
       "      <td>2016-03-18 18:46:15</td>\n",
       "      <td>1999</td>\n",
       "      <td>7</td>\n",
       "      <td>2001</td>\n",
       "      <td>1</td>\n",
       "      <td>131</td>\n",
       "      <td>170</td>\n",
       "      <td>150000</td>\n",
       "      <td>7</td>\n",
       "      <td>2</td>\n",
       "      <td>38</td>\n",
       "      <td>0</td>\n",
       "      <td>2016-03-18</td>\n",
       "      <td>0</td>\n",
       "      <td>36391</td>\n",
       "      <td>2016-03-18 18:46:15</td>\n",
       "    </tr>\n",
       "  </tbody>\n",
       "</table>\n",
       "</div>"
      ],
      "text/plain": [
       "               DateCrawled  Price VehicleType  RegistrationYear Gearbox  \\\n",
       "41529  2016-03-18 18:46:15   1999           7              2001       1   \n",
       "88087  2016-03-08 18:42:48   1799           2              1999       0   \n",
       "90964  2016-03-28 00:56:10   1000           5              2002       1   \n",
       "171088 2016-03-08 18:42:48   1799           2              1999       0   \n",
       "187735 2016-04-03 09:01:15   4699           2              2003       0   \n",
       "189060 2016-04-04 22:50:44  13000           4              2008       1   \n",
       "194008 2016-04-04 22:50:44  13000           4              2008       1   \n",
       "231258 2016-03-28 00:56:10   1000           5              2002       1   \n",
       "258109 2016-04-03 09:01:15   4699           2              2003       0   \n",
       "325651 2016-03-18 18:46:15   1999           7              2001       1   \n",
       "\n",
       "        Power Model  Kilometer  RegistrationMonth FuelType  Brand NotRepaired  \\\n",
       "41529     131   170     150000                  7        2     38           0   \n",
       "88087     193    76      20000                  7        6     20           0   \n",
       "90964      83   166     150000                  1        6     35           0   \n",
       "171088    193    76      20000                  7        6     20           0   \n",
       "187735    218    76     125000                  6        6     20           1   \n",
       "189060    143    29     125000                  9        2      1           0   \n",
       "194008    143    29     125000                  9        2      1           0   \n",
       "231258     83   166     150000                  1        6     35           0   \n",
       "258109    218    76     125000                  6        6     20           1   \n",
       "325651    131   170     150000                  7        2     38           0   \n",
       "\n",
       "       DateCreated  NumberOfPictures  PostalCode            LastSeen  \n",
       "41529   2016-03-18                 0       36391 2016-03-18 18:46:15  \n",
       "88087   2016-03-08                 0       89518 2016-03-09 09:46:57  \n",
       "90964   2016-03-28                 0       66589 2016-03-28 08:46:21  \n",
       "171088  2016-03-08                 0       89518 2016-03-09 09:46:57  \n",
       "187735  2016-04-03                 0       75196 2016-04-07 09:44:54  \n",
       "189060  2016-04-04                 0       65428 2016-04-05 12:30:14  \n",
       "194008  2016-04-04                 0       65428 2016-04-05 12:30:14  \n",
       "231258  2016-03-28                 0       66589 2016-03-28 08:46:21  \n",
       "258109  2016-04-03                 0       75196 2016-04-07 09:44:54  \n",
       "325651  2016-03-18                 0       36391 2016-03-18 18:46:15  "
      ]
     },
     "execution_count": 47,
     "metadata": {},
     "output_type": "execute_result"
    }
   ],
   "source": [
    "cars[cars.duplicated(keep=False)]"
   ]
  },
  {
   "cell_type": "code",
   "execution_count": 48,
   "metadata": {},
   "outputs": [],
   "source": [
    "cars = cars.drop_duplicates()\n"
   ]
  },
  {
   "cell_type": "markdown",
   "metadata": {},
   "source": [
    "Теперь удалим столбцы с типом данных datetime т.к. эти данные никак не влияют на работу модели."
   ]
  },
  {
   "cell_type": "code",
   "execution_count": 49,
   "metadata": {},
   "outputs": [],
   "source": [
    "cars = cars.drop(columns = ['DateCrawled','DateCreated','LastSeen'])"
   ]
  },
  {
   "cell_type": "markdown",
   "metadata": {},
   "source": [
    "Заменим типы данных object на integer"
   ]
  },
  {
   "cell_type": "code",
   "execution_count": 50,
   "metadata": {},
   "outputs": [],
   "source": [
    "cars = cars.astype({'VehicleType': 'int32',\n",
    "            'Gearbox':'int32',\n",
    "            'Model': 'int32',\n",
    "            'FuelType': 'int32',\n",
    "            'NotRepaired':'int32'})"
   ]
  },
  {
   "cell_type": "code",
   "execution_count": 51,
   "metadata": {},
   "outputs": [
    {
     "name": "stdout",
     "output_type": "stream",
     "text": [
      "++++++++++++++++++++++++++++++++++++++++++++++++++++++++++++++++++++++++++++++++\n",
      "<class 'pandas.core.frame.DataFrame'>\n",
      "Int64Index: 339860 entries, 0 to 354368\n",
      "Data columns (total 13 columns):\n",
      "Price                339860 non-null int64\n",
      "VehicleType          339860 non-null int32\n",
      "RegistrationYear     339860 non-null int64\n",
      "Gearbox              339860 non-null int32\n",
      "Power                339860 non-null int64\n",
      "Model                339860 non-null int32\n",
      "Kilometer            339860 non-null int64\n",
      "RegistrationMonth    339860 non-null int64\n",
      "FuelType             339860 non-null int32\n",
      "Brand                339860 non-null int64\n",
      "NotRepaired          339860 non-null int32\n",
      "NumberOfPictures     339860 non-null int64\n",
      "PostalCode           339860 non-null int64\n",
      "dtypes: int32(5), int64(8)\n",
      "memory usage: 29.8 MB\n",
      "++++++++++++++++++++++++++++++++++++++++++++++++++++++++++++++++++++++++++++++++\n",
      "Описание количественных переменных:\n",
      "               Price    VehicleType  RegistrationYear        Gearbox  \\\n",
      "count  339860.000000  339860.000000     339860.000000  339860.000000   \n",
      "mean     4546.262529       4.264103       2003.363064       0.806629   \n",
      "std      4504.087920       2.076528         19.478134       0.394942   \n",
      "min         1.000000       0.000000       1910.000000       0.000000   \n",
      "25%      1200.000000       4.000000       1999.000000       1.000000   \n",
      "50%      2850.000000       4.000000       2003.000000       1.000000   \n",
      "max     20000.000000       7.000000       6500.000000       1.000000   \n",
      "\n",
      "               Power          Model      Kilometer  RegistrationMonth  \\\n",
      "count  339860.000000  339860.000000  339860.000000      339860.000000   \n",
      "mean      108.121394     108.622524  128753.413170           6.392385   \n",
      "std        66.044020      70.488931   37008.793095           3.348892   \n",
      "min         0.000000       0.000000    5000.000000           1.000000   \n",
      "25%        69.000000      42.000000  125000.000000           4.000000   \n",
      "50%       105.000000     109.000000  150000.000000           6.000000   \n",
      "max      1521.000000     249.000000  150000.000000          12.000000   \n",
      "\n",
      "            FuelType          Brand    NotRepaired  NumberOfPictures  \\\n",
      "count  339860.000000  339860.000000  339860.000000          339860.0   \n",
      "mean        4.769099      20.778126       0.102133               0.0   \n",
      "std         1.833120      13.299696       0.302824               0.0   \n",
      "min         0.000000       0.000000       0.000000               0.0   \n",
      "25%         2.000000       9.000000       0.000000               0.0   \n",
      "50%         6.000000      24.000000       0.000000               0.0   \n",
      "max         6.000000      39.000000       1.000000               0.0   \n",
      "\n",
      "          PostalCode  \n",
      "count  339860.000000  \n",
      "mean    50709.075487  \n",
      "std     25725.157801  \n",
      "min      1067.000000  \n",
      "25%     30455.000000  \n",
      "50%     49536.000000  \n",
      "max     99998.000000  \n",
      "++++++++++++++++++++++++++++++++++++++++++++++++++++++++++++++++++++++++++++++++\n",
      "количество дубликатов в таблице = 23144\n"
     ]
    }
   ],
   "source": [
    "df_info(cars)"
   ]
  },
  {
   "cell_type": "code",
   "execution_count": 52,
   "metadata": {},
   "outputs": [],
   "source": [
    "#cars2 = cars2.drop(['NumberOfPictures',\"DateCrawled\", \"DateCreated\", \"LastSeen\"],axis = 1)\n",
    "#cars2 = cars2.drop(cars.query('Price==0').index)\n",
    "#cars2 = cars2.drop(cars2.query('VehicleType!=VehicleType or Gearbox!=Gearbox or Model!=Model or FuelType!=FuelType or NotRepaired!=NotRepaired').index)\n",
    "\n",
    "\n",
    "#cars2.shape"
   ]
  },
  {
   "cell_type": "code",
   "execution_count": 53,
   "metadata": {},
   "outputs": [],
   "source": [
    "#cars2.duplicated().sum()\n"
   ]
  },
  {
   "cell_type": "code",
   "execution_count": 54,
   "metadata": {},
   "outputs": [],
   "source": [
    "#cars2 = cars2.drop_duplicates()\n",
    "#cars2.shape"
   ]
  },
  {
   "cell_type": "code",
   "execution_count": 55,
   "metadata": {},
   "outputs": [],
   "source": [
    "#cars2.head()"
   ]
  },
  {
   "cell_type": "code",
   "execution_count": 56,
   "metadata": {},
   "outputs": [],
   "source": [
    "#cars2.VehicleType = le.fit_transform(cars2.VehicleType)\n",
    "#cars2.Gearbox = le.fit_transform(cars2.Gearbox)\n",
    "#cars2.Model = le.fit_transform(cars2.Model)\n",
    "#cars2.FuelType = le.fit_transform(cars2.FuelType)\n",
    "#cars2.Brand = le.fit_transform(cars2.Brand)\n",
    "#cars2.NotRepaired = le.fit_transform(cars2.NotRepaired)\n",
    "\n",
    "#cars2.head()"
   ]
  },
  {
   "cell_type": "markdown",
   "metadata": {},
   "source": [
    "### Подитог:\n",
    "- выполнили подготовку данных для построения модели: заменили выбросы, пропуски;\n",
    "- пришлось удалить около 4% данных;\n",
    "- в финальной версии таблице много дубликатов, но это фактически просто совпадение данных, поэтому оставляем;\n",
    "\n",
    "Можно переходить к построению моделей."
   ]
  },
  {
   "cell_type": "markdown",
   "metadata": {},
   "source": [
    "## Обучение моделей"
   ]
  },
  {
   "cell_type": "markdown",
   "metadata": {},
   "source": [
    "Делим на признаки и таргет:"
   ]
  },
  {
   "cell_type": "code",
   "execution_count": 57,
   "metadata": {},
   "outputs": [],
   "source": [
    "X = cars.drop('Price',axis=1)\n",
    "y = cars['Price']\n",
    "#X = cars2.drop('Price',axis=1)\n",
    "#y = cars2['Price']\n"
   ]
  },
  {
   "cell_type": "code",
   "execution_count": 58,
   "metadata": {},
   "outputs": [],
   "source": [
    "x_train, x_test, y_train, y_test = train_test_split(X, y, test_size = 0.25, random_state = RNS)"
   ]
  },
  {
   "cell_type": "code",
   "execution_count": 59,
   "metadata": {},
   "outputs": [
    {
     "data": {
      "image/png": "[encoded data removed]",
      "text/plain": [
       "<Figure size 720x720 with 2 Axes>"
      ]
     },
     "metadata": {},
     "output_type": "display_data"
    }
   ],
   "source": [
    "# матрица корреляций между признаками\n",
    "\n",
    "corr_total = cars.corr()\n",
    "#corr_total = cars2.corr()\n",
    "mask = np.zeros_like(corr_total)\n",
    "mask[np.triu_indices_from(mask)] = True\n",
    "with sns.axes_style(\"white\"):\n",
    "    f, ax = plt.subplots(figsize=(10, 10))\n",
    "    ax = sns.heatmap(corr_total, mask=mask, square=True,annot=True)\n",
    "    plt.title(\"All columns\", fontsize =8)"
   ]
  },
  {
   "cell_type": "markdown",
   "metadata": {},
   "source": [
    "Видна высокая корреляция между моделью и брендом.\n",
    "Но т.к. значения ниже 0,8 то оставляем  без изменений."
   ]
  },
  {
   "cell_type": "code",
   "execution_count": 60,
   "metadata": {},
   "outputs": [
    {
     "data": {
      "text/plain": [
       "count    339860.000000\n",
       "mean       4546.262529\n",
       "std        4504.087920\n",
       "min           1.000000\n",
       "25%        1200.000000\n",
       "50%        2850.000000\n",
       "75%        6500.000000\n",
       "max       20000.000000\n",
       "Name: Price, dtype: float64"
      ]
     },
     "execution_count": 60,
     "metadata": {},
     "output_type": "execute_result"
    },
    {
     "data": {
      "image/png": "[encoded data removed]",
      "text/plain": [
       "<Figure size 432x288 with 1 Axes>"
      ]
     },
     "metadata": {
      "needs_background": "light"
     },
     "output_type": "display_data"
    }
   ],
   "source": [
    "sns.distplot(y)\n",
    "y.describe()"
   ]
  },
  {
   "cell_type": "code",
   "execution_count": 61,
   "metadata": {},
   "outputs": [],
   "source": [
    "def learn_time(model,x_train,y_train):\n",
    "    start = time.time()\n",
    "    '''\n",
    "    функция считает время на обучение модели\n",
    "    '''\n",
    "    model.fit(x_train,y_train)\n",
    "    end = time.time()\n",
    "    time_fit = end - start\n",
    "    return time_fit,model"
   ]
  },
  {
   "cell_type": "code",
   "execution_count": 62,
   "metadata": {},
   "outputs": [],
   "source": [
    "def predict_time(model,x_test):\n",
    "    start = time.time()\n",
    "    '''\n",
    "    функция считает время на предсказания\n",
    "    '''\n",
    "    predict = model.predict(x_test)\n",
    "    end = time.time()\n",
    "    time_predict= end - start\n",
    "    return time_predict,predict"
   ]
  },
  {
   "cell_type": "code",
   "execution_count": 63,
   "metadata": {},
   "outputs": [
    {
     "data": {
      "text/html": [
       "<div>\n",
       "<style scoped>\n",
       "    .dataframe tbody tr th:only-of-type {\n",
       "        vertical-align: middle;\n",
       "    }\n",
       "\n",
       "    .dataframe tbody tr th {\n",
       "        vertical-align: top;\n",
       "    }\n",
       "\n",
       "    .dataframe thead th {\n",
       "        text-align: right;\n",
       "    }\n",
       "</style>\n",
       "<table border=\"1\" class=\"dataframe\">\n",
       "  <thead>\n",
       "    <tr style=\"text-align: right;\">\n",
       "      <th></th>\n",
       "      <th>RMSE</th>\n",
       "      <th>Learning time</th>\n",
       "      <th>Predict time</th>\n",
       "      <th>Model</th>\n",
       "    </tr>\n",
       "  </thead>\n",
       "  <tbody>\n",
       "  </tbody>\n",
       "</table>\n",
       "</div>"
      ],
      "text/plain": [
       "Empty DataFrame\n",
       "Columns: [RMSE, Learning time, Predict time, Model]\n",
       "Index: []"
      ]
     },
     "execution_count": 63,
     "metadata": {},
     "output_type": "execute_result"
    }
   ],
   "source": [
    "# сюда будем складывать результаты\n",
    "cars_result = pd.DataFrame(columns=['RMSE','Learning time','Predict time','Model'])\n",
    "cars_result"
   ]
  },
  {
   "cell_type": "code",
   "execution_count": 64,
   "metadata": {},
   "outputs": [],
   "source": [
    "def cars_metrics(RMSE,l_time,p_time,model_name,df):\n",
    "    '''\n",
    "    функция добавит в результ. df: RMSE, время обучения и время предсказания\n",
    "    \n",
    "    '''\n",
    "    df.loc[model_name,'RMSE'] = RMSE\n",
    "    df.loc[model_name,'Learning time'] = l_time\n",
    "    df.loc[model_name,'Predict time'] = p_time\n",
    "    df.loc[model_name,'Model'] = model_name\n",
    "    return df"
   ]
  },
  {
   "cell_type": "markdown",
   "metadata": {},
   "source": [
    "В данном разделе выполним настройку различных моделей, при этом не будем изменять гиперпараметры, чтобы не нарушить чистоту эксперимента.\n",
    "\n",
    "\n",
    "### Линейные модели:\n",
    "#### Линейная регрессия"
   ]
  },
  {
   "cell_type": "code",
   "execution_count": 65,
   "metadata": {},
   "outputs": [
    {
     "data": {
      "text/html": [
       "<div>\n",
       "<style scoped>\n",
       "    .dataframe tbody tr th:only-of-type {\n",
       "        vertical-align: middle;\n",
       "    }\n",
       "\n",
       "    .dataframe tbody tr th {\n",
       "        vertical-align: top;\n",
       "    }\n",
       "\n",
       "    .dataframe thead th {\n",
       "        text-align: right;\n",
       "    }\n",
       "</style>\n",
       "<table border=\"1\" class=\"dataframe\">\n",
       "  <thead>\n",
       "    <tr style=\"text-align: right;\">\n",
       "      <th></th>\n",
       "      <th>RMSE</th>\n",
       "      <th>Learning time</th>\n",
       "      <th>Predict time</th>\n",
       "      <th>Model</th>\n",
       "    </tr>\n",
       "  </thead>\n",
       "  <tbody>\n",
       "    <tr>\n",
       "      <td>Linear regression</td>\n",
       "      <td>3261.4</td>\n",
       "      <td>0.131153</td>\n",
       "      <td>0.00803781</td>\n",
       "      <td>Linear regression</td>\n",
       "    </tr>\n",
       "  </tbody>\n",
       "</table>\n",
       "</div>"
      ],
      "text/plain": [
       "                     RMSE Learning time Predict time              Model\n",
       "Linear regression  3261.4      0.131153   0.00803781  Linear regression"
      ]
     },
     "execution_count": 65,
     "metadata": {},
     "output_type": "execute_result"
    }
   ],
   "source": [
    "LR_learn_time,LR_model = learn_time(LinearRegression(),x_train,y_train)\n",
    "LR_pred_time,LR_predict = predict_time(LR_model,x_test)\n",
    "LR_RMSE = np.sqrt(mean_squared_error(y_test, LR_predict))\n",
    "cars_metrics(LR_RMSE,LR_learn_time,LR_pred_time,'Linear regression',cars_result)"
   ]
  },
  {
   "cell_type": "markdown",
   "metadata": {},
   "source": [
    "#### Ridge регрессия"
   ]
  },
  {
   "cell_type": "code",
   "execution_count": null,
   "metadata": {},
   "outputs": [],
   "source": [
    "\n"
   ]
  },
  {
   "cell_type": "code",
   "execution_count": 66,
   "metadata": {},
   "outputs": [
    {
     "data": {
      "text/html": [
       "<div>\n",
       "<style scoped>\n",
       "    .dataframe tbody tr th:only-of-type {\n",
       "        vertical-align: middle;\n",
       "    }\n",
       "\n",
       "    .dataframe tbody tr th {\n",
       "        vertical-align: top;\n",
       "    }\n",
       "\n",
       "    .dataframe thead th {\n",
       "        text-align: right;\n",
       "    }\n",
       "</style>\n",
       "<table border=\"1\" class=\"dataframe\">\n",
       "  <thead>\n",
       "    <tr style=\"text-align: right;\">\n",
       "      <th></th>\n",
       "      <th>RMSE</th>\n",
       "      <th>Learning time</th>\n",
       "      <th>Predict time</th>\n",
       "      <th>Model</th>\n",
       "    </tr>\n",
       "  </thead>\n",
       "  <tbody>\n",
       "    <tr>\n",
       "      <td>Linear regression</td>\n",
       "      <td>3261.4</td>\n",
       "      <td>0.131153</td>\n",
       "      <td>0.00803781</td>\n",
       "      <td>Linear regression</td>\n",
       "    </tr>\n",
       "    <tr>\n",
       "      <td>Ridge regression</td>\n",
       "      <td>3261.4</td>\n",
       "      <td>0.117387</td>\n",
       "      <td>0.0171468</td>\n",
       "      <td>Ridge regression</td>\n",
       "    </tr>\n",
       "  </tbody>\n",
       "</table>\n",
       "</div>"
      ],
      "text/plain": [
       "                     RMSE Learning time Predict time              Model\n",
       "Linear regression  3261.4      0.131153   0.00803781  Linear regression\n",
       "Ridge regression   3261.4      0.117387    0.0171468   Ridge regression"
      ]
     },
     "execution_count": 66,
     "metadata": {},
     "output_type": "execute_result"
    }
   ],
   "source": [
    "Ridge_l_time,Ridge = learn_time(Ridge(alpha=1,random_state=RNS),x_train,y_train) #,\n",
    "Ridge_p_time,Ridge_predict = predict_time(Ridge,x_test)\n",
    "Ridge_RMSE = np.sqrt(mean_squared_error(y_test, Ridge_predict))\n",
    "cars_metrics(Ridge_RMSE,Ridge_l_time,Ridge_p_time,'Ridge regression',cars_result)"
   ]
  },
  {
   "cell_type": "markdown",
   "metadata": {},
   "source": [
    "#### Lasso регрессия"
   ]
  },
  {
   "cell_type": "code",
   "execution_count": 67,
   "metadata": {},
   "outputs": [
    {
     "data": {
      "text/html": [
       "<div>\n",
       "<style scoped>\n",
       "    .dataframe tbody tr th:only-of-type {\n",
       "        vertical-align: middle;\n",
       "    }\n",
       "\n",
       "    .dataframe tbody tr th {\n",
       "        vertical-align: top;\n",
       "    }\n",
       "\n",
       "    .dataframe thead th {\n",
       "        text-align: right;\n",
       "    }\n",
       "</style>\n",
       "<table border=\"1\" class=\"dataframe\">\n",
       "  <thead>\n",
       "    <tr style=\"text-align: right;\">\n",
       "      <th></th>\n",
       "      <th>RMSE</th>\n",
       "      <th>Learning time</th>\n",
       "      <th>Predict time</th>\n",
       "      <th>Model</th>\n",
       "    </tr>\n",
       "  </thead>\n",
       "  <tbody>\n",
       "    <tr>\n",
       "      <td>Linear regression</td>\n",
       "      <td>3261.4</td>\n",
       "      <td>0.131153</td>\n",
       "      <td>0.00803781</td>\n",
       "      <td>Linear regression</td>\n",
       "    </tr>\n",
       "    <tr>\n",
       "      <td>Ridge regression</td>\n",
       "      <td>3261.4</td>\n",
       "      <td>0.117387</td>\n",
       "      <td>0.0171468</td>\n",
       "      <td>Ridge regression</td>\n",
       "    </tr>\n",
       "    <tr>\n",
       "      <td>Lasso regression</td>\n",
       "      <td>3261.4</td>\n",
       "      <td>0.292614</td>\n",
       "      <td>0.101343</td>\n",
       "      <td>Lasso regression</td>\n",
       "    </tr>\n",
       "  </tbody>\n",
       "</table>\n",
       "</div>"
      ],
      "text/plain": [
       "                     RMSE Learning time Predict time              Model\n",
       "Linear regression  3261.4      0.131153   0.00803781  Linear regression\n",
       "Ridge regression   3261.4      0.117387    0.0171468   Ridge regression\n",
       "Lasso regression   3261.4      0.292614     0.101343   Lasso regression"
      ]
     },
     "execution_count": 67,
     "metadata": {},
     "output_type": "execute_result"
    }
   ],
   "source": [
    "Lasso_l_time,Lasso = learn_time(Lasso(alpha=0.5,random_state=RNS),x_train,y_train)\n",
    "Lasso_p_time,Lasso_predict = predict_time(Lasso,x_test)\n",
    "Lasso_RMSE = np.sqrt(mean_squared_error(y_test, Lasso_predict))\n",
    "cars_metrics(Lasso_RMSE,Lasso_l_time,Lasso_p_time,'Lasso regression',cars_result)"
   ]
  },
  {
   "cell_type": "markdown",
   "metadata": {},
   "source": [
    "#### Подитог:\n",
    " - линейные модели ведут себя идентично,независимо от перебора коэфф. alpha. "
   ]
  },
  {
   "cell_type": "markdown",
   "metadata": {},
   "source": [
    "### Decision Tree"
   ]
  },
  {
   "cell_type": "code",
   "execution_count": 68,
   "metadata": {},
   "outputs": [
    {
     "data": {
      "text/html": [
       "<div>\n",
       "<style scoped>\n",
       "    .dataframe tbody tr th:only-of-type {\n",
       "        vertical-align: middle;\n",
       "    }\n",
       "\n",
       "    .dataframe tbody tr th {\n",
       "        vertical-align: top;\n",
       "    }\n",
       "\n",
       "    .dataframe thead th {\n",
       "        text-align: right;\n",
       "    }\n",
       "</style>\n",
       "<table border=\"1\" class=\"dataframe\">\n",
       "  <thead>\n",
       "    <tr style=\"text-align: right;\">\n",
       "      <th></th>\n",
       "      <th>RMSE</th>\n",
       "      <th>Learning time</th>\n",
       "      <th>Predict time</th>\n",
       "      <th>Model</th>\n",
       "    </tr>\n",
       "  </thead>\n",
       "  <tbody>\n",
       "    <tr>\n",
       "      <td>Linear regression</td>\n",
       "      <td>3261.4</td>\n",
       "      <td>0.131153</td>\n",
       "      <td>0.00803781</td>\n",
       "      <td>Linear regression</td>\n",
       "    </tr>\n",
       "    <tr>\n",
       "      <td>Ridge regression</td>\n",
       "      <td>3261.4</td>\n",
       "      <td>0.117387</td>\n",
       "      <td>0.0171468</td>\n",
       "      <td>Ridge regression</td>\n",
       "    </tr>\n",
       "    <tr>\n",
       "      <td>Lasso regression</td>\n",
       "      <td>3261.4</td>\n",
       "      <td>0.292614</td>\n",
       "      <td>0.101343</td>\n",
       "      <td>Lasso regression</td>\n",
       "    </tr>\n",
       "    <tr>\n",
       "      <td>Decision Tree</td>\n",
       "      <td>2148.18</td>\n",
       "      <td>2.19903</td>\n",
       "      <td>0.0706947</td>\n",
       "      <td>Decision Tree</td>\n",
       "    </tr>\n",
       "  </tbody>\n",
       "</table>\n",
       "</div>"
      ],
      "text/plain": [
       "                      RMSE Learning time Predict time              Model\n",
       "Linear regression   3261.4      0.131153   0.00803781  Linear regression\n",
       "Ridge regression    3261.4      0.117387    0.0171468   Ridge regression\n",
       "Lasso regression    3261.4      0.292614     0.101343   Lasso regression\n",
       "Decision Tree      2148.18       2.19903    0.0706947      Decision Tree"
      ]
     },
     "execution_count": 68,
     "metadata": {},
     "output_type": "execute_result"
    }
   ],
   "source": [
    "tree_l_time,tree = learn_time(DecisionTreeRegressor(),x_train,y_train)\n",
    "tree_p_time,tree_predict = predict_time(tree,x_test)\n",
    "rmse_tree = np.sqrt(mean_squared_error(y_test, tree_predict))\n",
    "cars_metrics(rmse_tree,tree_l_time,tree_p_time,'Decision Tree',cars_result)"
   ]
  },
  {
   "cell_type": "markdown",
   "metadata": {},
   "source": [
    "дерево решений значительно лучше предсказывает чем линейные модели, но время обучения существенно подросло."
   ]
  },
  {
   "cell_type": "markdown",
   "metadata": {},
   "source": [
    "### Ансамблевые методы регрессии\n",
    "#### Random forest regressor"
   ]
  },
  {
   "cell_type": "code",
   "execution_count": 69,
   "metadata": {},
   "outputs": [
    {
     "data": {
      "text/html": [
       "<div>\n",
       "<style scoped>\n",
       "    .dataframe tbody tr th:only-of-type {\n",
       "        vertical-align: middle;\n",
       "    }\n",
       "\n",
       "    .dataframe tbody tr th {\n",
       "        vertical-align: top;\n",
       "    }\n",
       "\n",
       "    .dataframe thead th {\n",
       "        text-align: right;\n",
       "    }\n",
       "</style>\n",
       "<table border=\"1\" class=\"dataframe\">\n",
       "  <thead>\n",
       "    <tr style=\"text-align: right;\">\n",
       "      <th></th>\n",
       "      <th>RMSE</th>\n",
       "      <th>Learning time</th>\n",
       "      <th>Predict time</th>\n",
       "      <th>Model</th>\n",
       "    </tr>\n",
       "  </thead>\n",
       "  <tbody>\n",
       "    <tr>\n",
       "      <td>Linear regression</td>\n",
       "      <td>3261.4</td>\n",
       "      <td>0.131153</td>\n",
       "      <td>0.00803781</td>\n",
       "      <td>Linear regression</td>\n",
       "    </tr>\n",
       "    <tr>\n",
       "      <td>Ridge regression</td>\n",
       "      <td>3261.4</td>\n",
       "      <td>0.117387</td>\n",
       "      <td>0.0171468</td>\n",
       "      <td>Ridge regression</td>\n",
       "    </tr>\n",
       "    <tr>\n",
       "      <td>Lasso regression</td>\n",
       "      <td>3261.4</td>\n",
       "      <td>0.292614</td>\n",
       "      <td>0.101343</td>\n",
       "      <td>Lasso regression</td>\n",
       "    </tr>\n",
       "    <tr>\n",
       "      <td>Decision Tree</td>\n",
       "      <td>2148.18</td>\n",
       "      <td>2.19903</td>\n",
       "      <td>0.0706947</td>\n",
       "      <td>Decision Tree</td>\n",
       "    </tr>\n",
       "    <tr>\n",
       "      <td>Random Forest</td>\n",
       "      <td>1641.94</td>\n",
       "      <td>28.6871</td>\n",
       "      <td>1.04068</td>\n",
       "      <td>Random Forest</td>\n",
       "    </tr>\n",
       "  </tbody>\n",
       "</table>\n",
       "</div>"
      ],
      "text/plain": [
       "                      RMSE Learning time Predict time              Model\n",
       "Linear regression   3261.4      0.131153   0.00803781  Linear regression\n",
       "Ridge regression    3261.4      0.117387    0.0171468   Ridge regression\n",
       "Lasso regression    3261.4      0.292614     0.101343   Lasso regression\n",
       "Decision Tree      2148.18       2.19903    0.0706947      Decision Tree\n",
       "Random Forest      1641.94       28.6871      1.04068      Random Forest"
      ]
     },
     "execution_count": 69,
     "metadata": {},
     "output_type": "execute_result"
    }
   ],
   "source": [
    "RF_l_time,RF = learn_time(RandomForestRegressor(n_estimators=20,random_state=RNS),x_train,y_train)\n",
    "RF_p_time,RF_predict = predict_time(RF,x_test)\n",
    "RF_RMSE = np.sqrt(mean_squared_error(y_test, RF_predict))\n",
    "cars_metrics(RF_RMSE,RF_l_time,RF_p_time,'Random Forest',cars_result)"
   ]
  },
  {
   "cell_type": "markdown",
   "metadata": {},
   "source": [
    "#### GradientBoostingRegressor"
   ]
  },
  {
   "cell_type": "code",
   "execution_count": 70,
   "metadata": {},
   "outputs": [
    {
     "data": {
      "text/html": [
       "<div>\n",
       "<style scoped>\n",
       "    .dataframe tbody tr th:only-of-type {\n",
       "        vertical-align: middle;\n",
       "    }\n",
       "\n",
       "    .dataframe tbody tr th {\n",
       "        vertical-align: top;\n",
       "    }\n",
       "\n",
       "    .dataframe thead th {\n",
       "        text-align: right;\n",
       "    }\n",
       "</style>\n",
       "<table border=\"1\" class=\"dataframe\">\n",
       "  <thead>\n",
       "    <tr style=\"text-align: right;\">\n",
       "      <th></th>\n",
       "      <th>RMSE</th>\n",
       "      <th>Learning time</th>\n",
       "      <th>Predict time</th>\n",
       "      <th>Model</th>\n",
       "    </tr>\n",
       "  </thead>\n",
       "  <tbody>\n",
       "    <tr>\n",
       "      <td>Linear regression</td>\n",
       "      <td>3261.4</td>\n",
       "      <td>0.131153</td>\n",
       "      <td>0.00803781</td>\n",
       "      <td>Linear regression</td>\n",
       "    </tr>\n",
       "    <tr>\n",
       "      <td>Ridge regression</td>\n",
       "      <td>3261.4</td>\n",
       "      <td>0.117387</td>\n",
       "      <td>0.0171468</td>\n",
       "      <td>Ridge regression</td>\n",
       "    </tr>\n",
       "    <tr>\n",
       "      <td>Lasso regression</td>\n",
       "      <td>3261.4</td>\n",
       "      <td>0.292614</td>\n",
       "      <td>0.101343</td>\n",
       "      <td>Lasso regression</td>\n",
       "    </tr>\n",
       "    <tr>\n",
       "      <td>Decision Tree</td>\n",
       "      <td>2148.18</td>\n",
       "      <td>2.19903</td>\n",
       "      <td>0.0706947</td>\n",
       "      <td>Decision Tree</td>\n",
       "    </tr>\n",
       "    <tr>\n",
       "      <td>Random Forest</td>\n",
       "      <td>1641.94</td>\n",
       "      <td>28.6871</td>\n",
       "      <td>1.04068</td>\n",
       "      <td>Random Forest</td>\n",
       "    </tr>\n",
       "    <tr>\n",
       "      <td>GradientBoostingRegressor</td>\n",
       "      <td>1990.42</td>\n",
       "      <td>18.4392</td>\n",
       "      <td>0.141473</td>\n",
       "      <td>GradientBoostingRegressor</td>\n",
       "    </tr>\n",
       "  </tbody>\n",
       "</table>\n",
       "</div>"
      ],
      "text/plain": [
       "                              RMSE Learning time Predict time  \\\n",
       "Linear regression           3261.4      0.131153   0.00803781   \n",
       "Ridge regression            3261.4      0.117387    0.0171468   \n",
       "Lasso regression            3261.4      0.292614     0.101343   \n",
       "Decision Tree              2148.18       2.19903    0.0706947   \n",
       "Random Forest              1641.94       28.6871      1.04068   \n",
       "GradientBoostingRegressor  1990.42       18.4392     0.141473   \n",
       "\n",
       "                                               Model  \n",
       "Linear regression                  Linear regression  \n",
       "Ridge regression                    Ridge regression  \n",
       "Lasso regression                    Lasso regression  \n",
       "Decision Tree                          Decision Tree  \n",
       "Random Forest                          Random Forest  \n",
       "GradientBoostingRegressor  GradientBoostingRegressor  "
      ]
     },
     "execution_count": 70,
     "metadata": {},
     "output_type": "execute_result"
    }
   ],
   "source": [
    "gbr_l_time,gbr = learn_time(GradientBoostingRegressor(n_estimators=100,random_state=RNS),x_train,y_train)\n",
    "\n",
    "gbr_p_time,gbr_predict = predict_time(gbr,x_test)\n",
    "gbr_RMSE = np.sqrt(mean_squared_error(y_test, gbr_predict))\n",
    "cars_metrics(gbr_RMSE,gbr_l_time,gbr_p_time,'GradientBoostingRegressor',cars_result)\n"
   ]
  },
  {
   "cell_type": "markdown",
   "metadata": {},
   "source": [
    "### Иттеративные модели\n",
    "#### Lightgbm"
   ]
  },
  {
   "cell_type": "code",
   "execution_count": 71,
   "metadata": {},
   "outputs": [],
   "source": [
    "lgb_l_time,lgb = learn_time(LGBMRegressor(random_state=RNS),x_train,y_train) #n_estimators=100"
   ]
  },
  {
   "cell_type": "code",
   "execution_count": 72,
   "metadata": {},
   "outputs": [
    {
     "data": {
      "text/html": [
       "<div>\n",
       "<style scoped>\n",
       "    .dataframe tbody tr th:only-of-type {\n",
       "        vertical-align: middle;\n",
       "    }\n",
       "\n",
       "    .dataframe tbody tr th {\n",
       "        vertical-align: top;\n",
       "    }\n",
       "\n",
       "    .dataframe thead th {\n",
       "        text-align: right;\n",
       "    }\n",
       "</style>\n",
       "<table border=\"1\" class=\"dataframe\">\n",
       "  <thead>\n",
       "    <tr style=\"text-align: right;\">\n",
       "      <th></th>\n",
       "      <th>RMSE</th>\n",
       "      <th>Learning time</th>\n",
       "      <th>Predict time</th>\n",
       "      <th>Model</th>\n",
       "    </tr>\n",
       "  </thead>\n",
       "  <tbody>\n",
       "    <tr>\n",
       "      <td>Linear regression</td>\n",
       "      <td>3261.4</td>\n",
       "      <td>0.131153</td>\n",
       "      <td>0.00803781</td>\n",
       "      <td>Linear regression</td>\n",
       "    </tr>\n",
       "    <tr>\n",
       "      <td>Ridge regression</td>\n",
       "      <td>3261.4</td>\n",
       "      <td>0.117387</td>\n",
       "      <td>0.0171468</td>\n",
       "      <td>Ridge regression</td>\n",
       "    </tr>\n",
       "    <tr>\n",
       "      <td>Lasso regression</td>\n",
       "      <td>3261.4</td>\n",
       "      <td>0.292614</td>\n",
       "      <td>0.101343</td>\n",
       "      <td>Lasso regression</td>\n",
       "    </tr>\n",
       "    <tr>\n",
       "      <td>Decision Tree</td>\n",
       "      <td>2148.18</td>\n",
       "      <td>2.19903</td>\n",
       "      <td>0.0706947</td>\n",
       "      <td>Decision Tree</td>\n",
       "    </tr>\n",
       "    <tr>\n",
       "      <td>Random Forest</td>\n",
       "      <td>1641.94</td>\n",
       "      <td>28.6871</td>\n",
       "      <td>1.04068</td>\n",
       "      <td>Random Forest</td>\n",
       "    </tr>\n",
       "    <tr>\n",
       "      <td>GradientBoostingRegressor</td>\n",
       "      <td>1990.42</td>\n",
       "      <td>18.4392</td>\n",
       "      <td>0.141473</td>\n",
       "      <td>GradientBoostingRegressor</td>\n",
       "    </tr>\n",
       "    <tr>\n",
       "      <td>Lightgbm</td>\n",
       "      <td>1763.36</td>\n",
       "      <td>9.66378</td>\n",
       "      <td>0.910021</td>\n",
       "      <td>Lightgbm</td>\n",
       "    </tr>\n",
       "  </tbody>\n",
       "</table>\n",
       "</div>"
      ],
      "text/plain": [
       "                              RMSE Learning time Predict time  \\\n",
       "Linear regression           3261.4      0.131153   0.00803781   \n",
       "Ridge regression            3261.4      0.117387    0.0171468   \n",
       "Lasso regression            3261.4      0.292614     0.101343   \n",
       "Decision Tree              2148.18       2.19903    0.0706947   \n",
       "Random Forest              1641.94       28.6871      1.04068   \n",
       "GradientBoostingRegressor  1990.42       18.4392     0.141473   \n",
       "Lightgbm                   1763.36       9.66378     0.910021   \n",
       "\n",
       "                                               Model  \n",
       "Linear regression                  Linear regression  \n",
       "Ridge regression                    Ridge regression  \n",
       "Lasso regression                    Lasso regression  \n",
       "Decision Tree                          Decision Tree  \n",
       "Random Forest                          Random Forest  \n",
       "GradientBoostingRegressor  GradientBoostingRegressor  \n",
       "Lightgbm                                    Lightgbm  "
      ]
     },
     "execution_count": 72,
     "metadata": {},
     "output_type": "execute_result"
    }
   ],
   "source": [
    "lgb_p_time,lgb_predict = predict_time(lgb,x_test)\n",
    "lgb_RMSE = np.sqrt(mean_squared_error(y_test, lgb_predict))\n",
    "cars_metrics(lgb_RMSE,lgb_l_time,lgb_p_time,'Lightgbm',cars_result)\n"
   ]
  },
  {
   "cell_type": "markdown",
   "metadata": {},
   "source": [
    "#### XGBoost"
   ]
  },
  {
   "cell_type": "code",
   "execution_count": 73,
   "metadata": {},
   "outputs": [
    {
     "name": "stderr",
     "output_type": "stream",
     "text": [
      "/opt/conda/lib/python3.7/site-packages/xgboost/core.py:587: FutureWarning: Series.base is deprecated and will be removed in a future version\n",
      "  if getattr(data, 'base', None) is not None and \\\n"
     ]
    },
    {
     "name": "stdout",
     "output_type": "stream",
     "text": [
      "[16:01:25] WARNING: /workspace/src/objective/regression_obj.cu:152: reg:linear is now deprecated in favor of reg:squarederror.\n"
     ]
    },
    {
     "data": {
      "text/html": [
       "<div>\n",
       "<style scoped>\n",
       "    .dataframe tbody tr th:only-of-type {\n",
       "        vertical-align: middle;\n",
       "    }\n",
       "\n",
       "    .dataframe tbody tr th {\n",
       "        vertical-align: top;\n",
       "    }\n",
       "\n",
       "    .dataframe thead th {\n",
       "        text-align: right;\n",
       "    }\n",
       "</style>\n",
       "<table border=\"1\" class=\"dataframe\">\n",
       "  <thead>\n",
       "    <tr style=\"text-align: right;\">\n",
       "      <th></th>\n",
       "      <th>RMSE</th>\n",
       "      <th>Learning time</th>\n",
       "      <th>Predict time</th>\n",
       "      <th>Model</th>\n",
       "    </tr>\n",
       "  </thead>\n",
       "  <tbody>\n",
       "    <tr>\n",
       "      <td>Linear regression</td>\n",
       "      <td>3261.4</td>\n",
       "      <td>0.131153</td>\n",
       "      <td>0.00803781</td>\n",
       "      <td>Linear regression</td>\n",
       "    </tr>\n",
       "    <tr>\n",
       "      <td>Ridge regression</td>\n",
       "      <td>3261.4</td>\n",
       "      <td>0.117387</td>\n",
       "      <td>0.0171468</td>\n",
       "      <td>Ridge regression</td>\n",
       "    </tr>\n",
       "    <tr>\n",
       "      <td>Lasso regression</td>\n",
       "      <td>3261.4</td>\n",
       "      <td>0.292614</td>\n",
       "      <td>0.101343</td>\n",
       "      <td>Lasso regression</td>\n",
       "    </tr>\n",
       "    <tr>\n",
       "      <td>Decision Tree</td>\n",
       "      <td>2148.18</td>\n",
       "      <td>2.19903</td>\n",
       "      <td>0.0706947</td>\n",
       "      <td>Decision Tree</td>\n",
       "    </tr>\n",
       "    <tr>\n",
       "      <td>Random Forest</td>\n",
       "      <td>1641.94</td>\n",
       "      <td>28.6871</td>\n",
       "      <td>1.04068</td>\n",
       "      <td>Random Forest</td>\n",
       "    </tr>\n",
       "    <tr>\n",
       "      <td>GradientBoostingRegressor</td>\n",
       "      <td>1990.42</td>\n",
       "      <td>18.4392</td>\n",
       "      <td>0.141473</td>\n",
       "      <td>GradientBoostingRegressor</td>\n",
       "    </tr>\n",
       "    <tr>\n",
       "      <td>Lightgbm</td>\n",
       "      <td>1763.36</td>\n",
       "      <td>9.66378</td>\n",
       "      <td>0.910021</td>\n",
       "      <td>Lightgbm</td>\n",
       "    </tr>\n",
       "    <tr>\n",
       "      <td>XGBoost</td>\n",
       "      <td>2002.68</td>\n",
       "      <td>25.301</td>\n",
       "      <td>0.401076</td>\n",
       "      <td>XGBoost</td>\n",
       "    </tr>\n",
       "  </tbody>\n",
       "</table>\n",
       "</div>"
      ],
      "text/plain": [
       "                              RMSE Learning time Predict time  \\\n",
       "Linear regression           3261.4      0.131153   0.00803781   \n",
       "Ridge regression            3261.4      0.117387    0.0171468   \n",
       "Lasso regression            3261.4      0.292614     0.101343   \n",
       "Decision Tree              2148.18       2.19903    0.0706947   \n",
       "Random Forest              1641.94       28.6871      1.04068   \n",
       "GradientBoostingRegressor  1990.42       18.4392     0.141473   \n",
       "Lightgbm                   1763.36       9.66378     0.910021   \n",
       "XGBoost                    2002.68        25.301     0.401076   \n",
       "\n",
       "                                               Model  \n",
       "Linear regression                  Linear regression  \n",
       "Ridge regression                    Ridge regression  \n",
       "Lasso regression                    Lasso regression  \n",
       "Decision Tree                          Decision Tree  \n",
       "Random Forest                          Random Forest  \n",
       "GradientBoostingRegressor  GradientBoostingRegressor  \n",
       "Lightgbm                                    Lightgbm  \n",
       "XGBoost                                      XGBoost  "
      ]
     },
     "execution_count": 73,
     "metadata": {},
     "output_type": "execute_result"
    }
   ],
   "source": [
    "xgbr_l_time,xgbr = learn_time(xgb.XGBRegressor(n_estimators=100,random_state=RNS),x_train,y_train)\n",
    "xgbr_p_time,xgbr_predict = predict_time(xgbr,x_test)\n",
    "xgbr_RMSE = np.sqrt(mean_squared_error(y_test, xgbr_predict))\n",
    "cars_metrics(xgbr_RMSE,xgbr_l_time,xgbr_p_time,'XGBoost',cars_result)"
   ]
  },
  {
   "cell_type": "markdown",
   "metadata": {},
   "source": [
    "#### Catboost"
   ]
  },
  {
   "cell_type": "code",
   "execution_count": 74,
   "metadata": {},
   "outputs": [
    {
     "data": {
      "text/html": [
       "<div>\n",
       "<style scoped>\n",
       "    .dataframe tbody tr th:only-of-type {\n",
       "        vertical-align: middle;\n",
       "    }\n",
       "\n",
       "    .dataframe tbody tr th {\n",
       "        vertical-align: top;\n",
       "    }\n",
       "\n",
       "    .dataframe thead th {\n",
       "        text-align: right;\n",
       "    }\n",
       "</style>\n",
       "<table border=\"1\" class=\"dataframe\">\n",
       "  <thead>\n",
       "    <tr style=\"text-align: right;\">\n",
       "      <th></th>\n",
       "      <th>RMSE</th>\n",
       "      <th>Learning time</th>\n",
       "      <th>Predict time</th>\n",
       "      <th>Model</th>\n",
       "    </tr>\n",
       "  </thead>\n",
       "  <tbody>\n",
       "    <tr>\n",
       "      <td>Linear regression</td>\n",
       "      <td>3261.4</td>\n",
       "      <td>0.131153</td>\n",
       "      <td>0.00803781</td>\n",
       "      <td>Linear regression</td>\n",
       "    </tr>\n",
       "    <tr>\n",
       "      <td>Ridge regression</td>\n",
       "      <td>3261.4</td>\n",
       "      <td>0.117387</td>\n",
       "      <td>0.0171468</td>\n",
       "      <td>Ridge regression</td>\n",
       "    </tr>\n",
       "    <tr>\n",
       "      <td>Lasso regression</td>\n",
       "      <td>3261.4</td>\n",
       "      <td>0.292614</td>\n",
       "      <td>0.101343</td>\n",
       "      <td>Lasso regression</td>\n",
       "    </tr>\n",
       "    <tr>\n",
       "      <td>Decision Tree</td>\n",
       "      <td>2148.18</td>\n",
       "      <td>2.19903</td>\n",
       "      <td>0.0706947</td>\n",
       "      <td>Decision Tree</td>\n",
       "    </tr>\n",
       "    <tr>\n",
       "      <td>Random Forest</td>\n",
       "      <td>1641.94</td>\n",
       "      <td>28.6871</td>\n",
       "      <td>1.04068</td>\n",
       "      <td>Random Forest</td>\n",
       "    </tr>\n",
       "    <tr>\n",
       "      <td>GradientBoostingRegressor</td>\n",
       "      <td>1990.42</td>\n",
       "      <td>18.4392</td>\n",
       "      <td>0.141473</td>\n",
       "      <td>GradientBoostingRegressor</td>\n",
       "    </tr>\n",
       "    <tr>\n",
       "      <td>Lightgbm</td>\n",
       "      <td>1763.36</td>\n",
       "      <td>9.66378</td>\n",
       "      <td>0.910021</td>\n",
       "      <td>Lightgbm</td>\n",
       "    </tr>\n",
       "    <tr>\n",
       "      <td>XGBoost</td>\n",
       "      <td>2002.68</td>\n",
       "      <td>25.301</td>\n",
       "      <td>0.401076</td>\n",
       "      <td>XGBoost</td>\n",
       "    </tr>\n",
       "    <tr>\n",
       "      <td>Catboost</td>\n",
       "      <td>2144.5</td>\n",
       "      <td>19.8794</td>\n",
       "      <td>0.0103786</td>\n",
       "      <td>Catboost</td>\n",
       "    </tr>\n",
       "  </tbody>\n",
       "</table>\n",
       "</div>"
      ],
      "text/plain": [
       "                              RMSE Learning time Predict time  \\\n",
       "Linear regression           3261.4      0.131153   0.00803781   \n",
       "Ridge regression            3261.4      0.117387    0.0171468   \n",
       "Lasso regression            3261.4      0.292614     0.101343   \n",
       "Decision Tree              2148.18       2.19903    0.0706947   \n",
       "Random Forest              1641.94       28.6871      1.04068   \n",
       "GradientBoostingRegressor  1990.42       18.4392     0.141473   \n",
       "Lightgbm                   1763.36       9.66378     0.910021   \n",
       "XGBoost                    2002.68        25.301     0.401076   \n",
       "Catboost                    2144.5       19.8794    0.0103786   \n",
       "\n",
       "                                               Model  \n",
       "Linear regression                  Linear regression  \n",
       "Ridge regression                    Ridge regression  \n",
       "Lasso regression                    Lasso regression  \n",
       "Decision Tree                          Decision Tree  \n",
       "Random Forest                          Random Forest  \n",
       "GradientBoostingRegressor  GradientBoostingRegressor  \n",
       "Lightgbm                                    Lightgbm  \n",
       "XGBoost                                      XGBoost  \n",
       "Catboost                                    Catboost  "
      ]
     },
     "execution_count": 74,
     "metadata": {},
     "output_type": "execute_result"
    }
   ],
   "source": [
    "cat_l_time,cat = learn_time(CatBoostRegressor(loss_function='RMSE', n_estimators=100, silent=True),x_train,y_train)\n",
    "cat_p_time,cat_predict = predict_time(cat,x_test)\n",
    "cat_RMSE = np.sqrt(mean_squared_error(y_test, cat_predict))\n",
    "cars_metrics(cat_RMSE,cat_l_time,cat_p_time,'Catboost',cars_result)"
   ]
  },
  {
   "cell_type": "markdown",
   "metadata": {},
   "source": [
    "### Baseline\n",
    "- модель для ориентира остальных моделей."
   ]
  },
  {
   "cell_type": "code",
   "execution_count": 75,
   "metadata": {},
   "outputs": [
    {
     "data": {
      "text/plain": [
       "0    4546.262529\n",
       "1    4546.262529\n",
       "2    4546.262529\n",
       "3    4546.262529\n",
       "4    4546.262529\n",
       "Name: Price, dtype: float64"
      ]
     },
     "execution_count": 75,
     "metadata": {},
     "output_type": "execute_result"
    }
   ],
   "source": [
    "y_hat = y.copy()\n",
    "y_hat.loc[:] = y.mean()\n",
    "y_hat.head()"
   ]
  },
  {
   "cell_type": "code",
   "execution_count": 76,
   "metadata": {},
   "outputs": [
    {
     "data": {
      "text/html": [
       "<div>\n",
       "<style scoped>\n",
       "    .dataframe tbody tr th:only-of-type {\n",
       "        vertical-align: middle;\n",
       "    }\n",
       "\n",
       "    .dataframe tbody tr th {\n",
       "        vertical-align: top;\n",
       "    }\n",
       "\n",
       "    .dataframe thead th {\n",
       "        text-align: right;\n",
       "    }\n",
       "</style>\n",
       "<table border=\"1\" class=\"dataframe\">\n",
       "  <thead>\n",
       "    <tr style=\"text-align: right;\">\n",
       "      <th></th>\n",
       "      <th>RMSE</th>\n",
       "      <th>Learning time</th>\n",
       "      <th>Predict time</th>\n",
       "      <th>Model</th>\n",
       "    </tr>\n",
       "  </thead>\n",
       "  <tbody>\n",
       "    <tr>\n",
       "      <td>Linear regression</td>\n",
       "      <td>3261.4</td>\n",
       "      <td>0.131153</td>\n",
       "      <td>0.00803781</td>\n",
       "      <td>Linear regression</td>\n",
       "    </tr>\n",
       "    <tr>\n",
       "      <td>Ridge regression</td>\n",
       "      <td>3261.4</td>\n",
       "      <td>0.117387</td>\n",
       "      <td>0.0171468</td>\n",
       "      <td>Ridge regression</td>\n",
       "    </tr>\n",
       "    <tr>\n",
       "      <td>Lasso regression</td>\n",
       "      <td>3261.4</td>\n",
       "      <td>0.292614</td>\n",
       "      <td>0.101343</td>\n",
       "      <td>Lasso regression</td>\n",
       "    </tr>\n",
       "    <tr>\n",
       "      <td>Decision Tree</td>\n",
       "      <td>2148.18</td>\n",
       "      <td>2.19903</td>\n",
       "      <td>0.0706947</td>\n",
       "      <td>Decision Tree</td>\n",
       "    </tr>\n",
       "    <tr>\n",
       "      <td>Random Forest</td>\n",
       "      <td>1641.94</td>\n",
       "      <td>28.6871</td>\n",
       "      <td>1.04068</td>\n",
       "      <td>Random Forest</td>\n",
       "    </tr>\n",
       "    <tr>\n",
       "      <td>GradientBoostingRegressor</td>\n",
       "      <td>1990.42</td>\n",
       "      <td>18.4392</td>\n",
       "      <td>0.141473</td>\n",
       "      <td>GradientBoostingRegressor</td>\n",
       "    </tr>\n",
       "    <tr>\n",
       "      <td>Lightgbm</td>\n",
       "      <td>1763.36</td>\n",
       "      <td>9.66378</td>\n",
       "      <td>0.910021</td>\n",
       "      <td>Lightgbm</td>\n",
       "    </tr>\n",
       "    <tr>\n",
       "      <td>XGBoost</td>\n",
       "      <td>2002.68</td>\n",
       "      <td>25.301</td>\n",
       "      <td>0.401076</td>\n",
       "      <td>XGBoost</td>\n",
       "    </tr>\n",
       "    <tr>\n",
       "      <td>Catboost</td>\n",
       "      <td>2144.5</td>\n",
       "      <td>19.8794</td>\n",
       "      <td>0.0103786</td>\n",
       "      <td>Catboost</td>\n",
       "    </tr>\n",
       "    <tr>\n",
       "      <td>Baseline</td>\n",
       "      <td>4504.08</td>\n",
       "      <td>0</td>\n",
       "      <td>0</td>\n",
       "      <td>Baseline</td>\n",
       "    </tr>\n",
       "  </tbody>\n",
       "</table>\n",
       "</div>"
      ],
      "text/plain": [
       "                              RMSE Learning time Predict time  \\\n",
       "Linear regression           3261.4      0.131153   0.00803781   \n",
       "Ridge regression            3261.4      0.117387    0.0171468   \n",
       "Lasso regression            3261.4      0.292614     0.101343   \n",
       "Decision Tree              2148.18       2.19903    0.0706947   \n",
       "Random Forest              1641.94       28.6871      1.04068   \n",
       "GradientBoostingRegressor  1990.42       18.4392     0.141473   \n",
       "Lightgbm                   1763.36       9.66378     0.910021   \n",
       "XGBoost                    2002.68        25.301     0.401076   \n",
       "Catboost                    2144.5       19.8794    0.0103786   \n",
       "Baseline                   4504.08             0            0   \n",
       "\n",
       "                                               Model  \n",
       "Linear regression                  Linear regression  \n",
       "Ridge regression                    Ridge regression  \n",
       "Lasso regression                    Lasso regression  \n",
       "Decision Tree                          Decision Tree  \n",
       "Random Forest                          Random Forest  \n",
       "GradientBoostingRegressor  GradientBoostingRegressor  \n",
       "Lightgbm                                    Lightgbm  \n",
       "XGBoost                                      XGBoost  \n",
       "Catboost                                    Catboost  \n",
       "Baseline                                    Baseline  "
      ]
     },
     "execution_count": 76,
     "metadata": {},
     "output_type": "execute_result"
    }
   ],
   "source": [
    "base_RMSE = np.sqrt(mean_squared_error(y, y_hat))\n",
    "cars_metrics(base_RMSE,0,0,'Baseline',cars_result)\n"
   ]
  },
  {
   "cell_type": "markdown",
   "metadata": {},
   "source": [
    "### Подитог:\n",
    "- получили результаты разных моделей , свели в сводную таблцу;\n",
    "- очевидно, что все модели работают лучше базовой(baseline);\n",
    "- очевидно, что модели с большим набором простых моделей внутри работают дольше.\n",
    "\n",
    "\n",
    "Теперь перейдем к анализу моделей."
   ]
  },
  {
   "cell_type": "markdown",
   "metadata": {},
   "source": [
    "## Анализ моделей"
   ]
  },
  {
   "cell_type": "code",
   "execution_count": 77,
   "metadata": {},
   "outputs": [
    {
     "data": {
      "text/html": [
       "<div>\n",
       "<style scoped>\n",
       "    .dataframe tbody tr th:only-of-type {\n",
       "        vertical-align: middle;\n",
       "    }\n",
       "\n",
       "    .dataframe tbody tr th {\n",
       "        vertical-align: top;\n",
       "    }\n",
       "\n",
       "    .dataframe thead th {\n",
       "        text-align: right;\n",
       "    }\n",
       "</style>\n",
       "<table border=\"1\" class=\"dataframe\">\n",
       "  <thead>\n",
       "    <tr style=\"text-align: right;\">\n",
       "      <th></th>\n",
       "      <th>RMSE</th>\n",
       "      <th>Learning time</th>\n",
       "      <th>Predict time</th>\n",
       "      <th>Model</th>\n",
       "    </tr>\n",
       "  </thead>\n",
       "  <tbody>\n",
       "    <tr>\n",
       "      <td>Linear regression</td>\n",
       "      <td>3261.4</td>\n",
       "      <td>0.131153</td>\n",
       "      <td>0.00803781</td>\n",
       "      <td>Linear regression</td>\n",
       "    </tr>\n",
       "    <tr>\n",
       "      <td>Ridge regression</td>\n",
       "      <td>3261.4</td>\n",
       "      <td>0.117387</td>\n",
       "      <td>0.0171468</td>\n",
       "      <td>Ridge regression</td>\n",
       "    </tr>\n",
       "    <tr>\n",
       "      <td>Lasso regression</td>\n",
       "      <td>3261.4</td>\n",
       "      <td>0.292614</td>\n",
       "      <td>0.101343</td>\n",
       "      <td>Lasso regression</td>\n",
       "    </tr>\n",
       "    <tr>\n",
       "      <td>Decision Tree</td>\n",
       "      <td>2148.18</td>\n",
       "      <td>2.19903</td>\n",
       "      <td>0.0706947</td>\n",
       "      <td>Decision Tree</td>\n",
       "    </tr>\n",
       "    <tr>\n",
       "      <td>Random Forest</td>\n",
       "      <td>1641.94</td>\n",
       "      <td>28.6871</td>\n",
       "      <td>1.04068</td>\n",
       "      <td>Random Forest</td>\n",
       "    </tr>\n",
       "    <tr>\n",
       "      <td>GradientBoostingRegressor</td>\n",
       "      <td>1990.42</td>\n",
       "      <td>18.4392</td>\n",
       "      <td>0.141473</td>\n",
       "      <td>GradientBoostingRegressor</td>\n",
       "    </tr>\n",
       "    <tr>\n",
       "      <td>Lightgbm</td>\n",
       "      <td>1763.36</td>\n",
       "      <td>9.66378</td>\n",
       "      <td>0.910021</td>\n",
       "      <td>Lightgbm</td>\n",
       "    </tr>\n",
       "    <tr>\n",
       "      <td>XGBoost</td>\n",
       "      <td>2002.68</td>\n",
       "      <td>25.301</td>\n",
       "      <td>0.401076</td>\n",
       "      <td>XGBoost</td>\n",
       "    </tr>\n",
       "    <tr>\n",
       "      <td>Catboost</td>\n",
       "      <td>2144.5</td>\n",
       "      <td>19.8794</td>\n",
       "      <td>0.0103786</td>\n",
       "      <td>Catboost</td>\n",
       "    </tr>\n",
       "    <tr>\n",
       "      <td>Baseline</td>\n",
       "      <td>4504.08</td>\n",
       "      <td>0</td>\n",
       "      <td>0</td>\n",
       "      <td>Baseline</td>\n",
       "    </tr>\n",
       "  </tbody>\n",
       "</table>\n",
       "</div>"
      ],
      "text/plain": [
       "                              RMSE Learning time Predict time  \\\n",
       "Linear regression           3261.4      0.131153   0.00803781   \n",
       "Ridge regression            3261.4      0.117387    0.0171468   \n",
       "Lasso regression            3261.4      0.292614     0.101343   \n",
       "Decision Tree              2148.18       2.19903    0.0706947   \n",
       "Random Forest              1641.94       28.6871      1.04068   \n",
       "GradientBoostingRegressor  1990.42       18.4392     0.141473   \n",
       "Lightgbm                   1763.36       9.66378     0.910021   \n",
       "XGBoost                    2002.68        25.301     0.401076   \n",
       "Catboost                    2144.5       19.8794    0.0103786   \n",
       "Baseline                   4504.08             0            0   \n",
       "\n",
       "                                               Model  \n",
       "Linear regression                  Linear regression  \n",
       "Ridge regression                    Ridge regression  \n",
       "Lasso regression                    Lasso regression  \n",
       "Decision Tree                          Decision Tree  \n",
       "Random Forest                          Random Forest  \n",
       "GradientBoostingRegressor  GradientBoostingRegressor  \n",
       "Lightgbm                                    Lightgbm  \n",
       "XGBoost                                      XGBoost  \n",
       "Catboost                                    Catboost  \n",
       "Baseline                                    Baseline  "
      ]
     },
     "execution_count": 77,
     "metadata": {},
     "output_type": "execute_result"
    }
   ],
   "source": [
    "cars_result"
   ]
  },
  {
   "cell_type": "code",
   "execution_count": 78,
   "metadata": {},
   "outputs": [
    {
     "data": {
      "image/png": "[encoded data removed]",
      "text/plain": [
       "<Figure size 576x432 with 1 Axes>"
      ]
     },
     "metadata": {
      "needs_background": "light"
     },
     "output_type": "display_data"
    }
   ],
   "source": [
    "plt.figure(figsize = (8,6))\n",
    "sns.scatterplot(data = cars_result ,x ='RMSE', y='Learning time', hue=\"Model\")\n",
    "plt.title('RMSE от времени обучения')\n",
    "plt.show()"
   ]
  },
  {
   "cell_type": "markdown",
   "metadata": {},
   "source": [
    "Видно что чем ниже RMSE, тем дольше время обучения модели.  \n",
    "Лучше всех в этом плане показывается себя модель LightGBM"
   ]
  },
  {
   "cell_type": "code",
   "execution_count": 79,
   "metadata": {},
   "outputs": [
    {
     "data": {
      "image/png": "[encoded data removed]",
      "text/plain": [
       "<Figure size 576x432 with 1 Axes>"
      ]
     },
     "metadata": {
      "needs_background": "light"
     },
     "output_type": "display_data"
    }
   ],
   "source": [
    "plt.figure(figsize = (8,6))\n",
    "sns.scatterplot(data = cars_result ,x ='RMSE', y='Predict time', hue=\"Model\")\n",
    "plt.title('RMSE от времени предсказания')\n",
    "plt.show()"
   ]
  },
  {
   "cell_type": "markdown",
   "metadata": {},
   "source": [
    "Аналогично времени обучения - чем ниже RMSE, тем дольше время предсказания модели.\n",
    "Лучше всех в этом плане показывается себя модель LightGBM"
   ]
  },
  {
   "cell_type": "markdown",
   "metadata": {},
   "source": [
    "#### Настройка модели LGBMRegressor"
   ]
  },
  {
   "cell_type": "code",
   "execution_count": 80,
   "metadata": {},
   "outputs": [],
   "source": [
    "def get_est():\n",
    "    '''\n",
    "    функция создает модель LGBMRegressor с разным количеством деревьев\n",
    "    '''\n",
    "    models = dict()\n",
    "    trees = [10, 50, 100, 500, 1000]\n",
    "    for n in trees:\n",
    "        models[n] = LGBMRegressor(n_estimators=n,random_state=RNS)\n",
    "    return models\n",
    "\n",
    "lgbmr = get_est()"
   ]
  },
  {
   "cell_type": "code",
   "execution_count": 81,
   "metadata": {},
   "outputs": [],
   "source": [
    "def get_depth():\n",
    "    '''\n",
    "    функция создает модель LGBMRegressor с разной глубиной дерева и количеством листьев\n",
    "    '''\n",
    "    models = dict()\n",
    "    for i in  range(1,11):\n",
    "        models[i] = LGBMRegressor(max_depth=i,num_leaves=2**i,random_state=RNS)\n",
    "    return models\n",
    "\n",
    "lgbm_i = get_depth()"
   ]
  },
  {
   "cell_type": "code",
   "execution_count": 82,
   "metadata": {},
   "outputs": [],
   "source": [
    "# высчиатем время обучения, RMSE  в зависимости от количества деревьев в модели\n",
    "# добавим все результаты в новый датафрейм\n",
    "lgbm_df = pd.DataFrame()\n",
    "for name, model in lgbmr.items():\n",
    "    s = time.time()\n",
    "    model.fit(x_train,y_train)\n",
    "    e = time.time()\n",
    "    l_time = e-s\n",
    "    predict = model.predict(x_test)\n",
    "    RMSE = np.sqrt(mean_squared_error(y_test, predict))\n",
    "    lgbm_df.loc[name,'RMSE'] = RMSE\n",
    "    lgbm_df.loc[name,'Learning time'] = l_time\n",
    "    lgbm_df.loc[name,'Trees'] = name"
   ]
  },
  {
   "cell_type": "code",
   "execution_count": 83,
   "metadata": {},
   "outputs": [
    {
     "data": {
      "image/png": "[encoded data removed]",
      "text/plain": [
       "<Figure size 576x432 with 1 Axes>"
      ]
     },
     "metadata": {
      "needs_background": "light"
     },
     "output_type": "display_data"
    }
   ],
   "source": [
    "plt.figure(figsize = (8,6))\n",
    "sns.scatterplot(data = lgbm_df ,x ='RMSE', y='Learning time',size=\"Trees\",sizes=(20, 200),legend=\"full\")\n",
    "plt.title('LGBM.RMSE от времени обучения для разного количества деревьев')\n",
    "plt.show()"
   ]
  },
  {
   "cell_type": "code",
   "execution_count": 84,
   "metadata": {},
   "outputs": [
    {
     "data": {
      "text/html": [
       "<div>\n",
       "<style scoped>\n",
       "    .dataframe tbody tr th:only-of-type {\n",
       "        vertical-align: middle;\n",
       "    }\n",
       "\n",
       "    .dataframe tbody tr th {\n",
       "        vertical-align: top;\n",
       "    }\n",
       "\n",
       "    .dataframe thead th {\n",
       "        text-align: right;\n",
       "    }\n",
       "</style>\n",
       "<table border=\"1\" class=\"dataframe\">\n",
       "  <thead>\n",
       "    <tr style=\"text-align: right;\">\n",
       "      <th></th>\n",
       "      <th>RMSE</th>\n",
       "      <th>Learning time</th>\n",
       "      <th>Trees</th>\n",
       "    </tr>\n",
       "  </thead>\n",
       "  <tbody>\n",
       "    <tr>\n",
       "      <td>10</td>\n",
       "      <td>2648.281392</td>\n",
       "      <td>1.080416</td>\n",
       "      <td>10.0</td>\n",
       "    </tr>\n",
       "    <tr>\n",
       "      <td>50</td>\n",
       "      <td>1849.306749</td>\n",
       "      <td>2.664792</td>\n",
       "      <td>50.0</td>\n",
       "    </tr>\n",
       "    <tr>\n",
       "      <td>100</td>\n",
       "      <td>1763.357522</td>\n",
       "      <td>4.148957</td>\n",
       "      <td>100.0</td>\n",
       "    </tr>\n",
       "    <tr>\n",
       "      <td>500</td>\n",
       "      <td>1639.488341</td>\n",
       "      <td>12.606893</td>\n",
       "      <td>500.0</td>\n",
       "    </tr>\n",
       "    <tr>\n",
       "      <td>1000</td>\n",
       "      <td>1604.359301</td>\n",
       "      <td>21.134886</td>\n",
       "      <td>1000.0</td>\n",
       "    </tr>\n",
       "  </tbody>\n",
       "</table>\n",
       "</div>"
      ],
      "text/plain": [
       "             RMSE  Learning time   Trees\n",
       "10    2648.281392       1.080416    10.0\n",
       "50    1849.306749       2.664792    50.0\n",
       "100   1763.357522       4.148957   100.0\n",
       "500   1639.488341      12.606893   500.0\n",
       "1000  1604.359301      21.134886  1000.0"
      ]
     },
     "execution_count": 84,
     "metadata": {},
     "output_type": "execute_result"
    }
   ],
   "source": [
    "lgbm_df"
   ]
  },
  {
   "cell_type": "code",
   "execution_count": 85,
   "metadata": {},
   "outputs": [],
   "source": [
    "# высчиатем время обучения, RMSE  в зависимости от глубины дерева в модели\n",
    "# добавим все результаты в новый датафрейм\n",
    "lgbi_df = pd.DataFrame()\n",
    "for name, model in lgbm_i.items():\n",
    "    s = time.time()\n",
    "    model.fit(x_train,y_train)\n",
    "    e = time.time()\n",
    "    l_time = e-s\n",
    "    predict = model.predict(x_test)\n",
    "    RMSE = np.sqrt(mean_squared_error(y_test, predict))\n",
    "    lgbi_df.loc[name,'RMSE'] = RMSE\n",
    "    lgbi_df.loc[name,'Learning time'] = l_time\n",
    "    lgbi_df.loc[name,'Max depth'] = name"
   ]
  },
  {
   "cell_type": "code",
   "execution_count": 86,
   "metadata": {},
   "outputs": [
    {
     "data": {
      "text/html": [
       "<div>\n",
       "<style scoped>\n",
       "    .dataframe tbody tr th:only-of-type {\n",
       "        vertical-align: middle;\n",
       "    }\n",
       "\n",
       "    .dataframe tbody tr th {\n",
       "        vertical-align: top;\n",
       "    }\n",
       "\n",
       "    .dataframe thead th {\n",
       "        text-align: right;\n",
       "    }\n",
       "</style>\n",
       "<table border=\"1\" class=\"dataframe\">\n",
       "  <thead>\n",
       "    <tr style=\"text-align: right;\">\n",
       "      <th></th>\n",
       "      <th>RMSE</th>\n",
       "      <th>Learning time</th>\n",
       "      <th>Max depth</th>\n",
       "    </tr>\n",
       "  </thead>\n",
       "  <tbody>\n",
       "    <tr>\n",
       "      <td>1</td>\n",
       "      <td>2543.566962</td>\n",
       "      <td>1.672075</td>\n",
       "      <td>1.0</td>\n",
       "    </tr>\n",
       "    <tr>\n",
       "      <td>2</td>\n",
       "      <td>2132.498132</td>\n",
       "      <td>2.104059</td>\n",
       "      <td>2.0</td>\n",
       "    </tr>\n",
       "    <tr>\n",
       "      <td>3</td>\n",
       "      <td>1997.145487</td>\n",
       "      <td>2.529861</td>\n",
       "      <td>3.0</td>\n",
       "    </tr>\n",
       "    <tr>\n",
       "      <td>4</td>\n",
       "      <td>1886.319488</td>\n",
       "      <td>3.502544</td>\n",
       "      <td>4.0</td>\n",
       "    </tr>\n",
       "    <tr>\n",
       "      <td>5</td>\n",
       "      <td>1812.377789</td>\n",
       "      <td>3.761408</td>\n",
       "      <td>5.0</td>\n",
       "    </tr>\n",
       "    <tr>\n",
       "      <td>6</td>\n",
       "      <td>1756.543077</td>\n",
       "      <td>4.385227</td>\n",
       "      <td>6.0</td>\n",
       "    </tr>\n",
       "    <tr>\n",
       "      <td>7</td>\n",
       "      <td>1712.093577</td>\n",
       "      <td>5.158260</td>\n",
       "      <td>7.0</td>\n",
       "    </tr>\n",
       "    <tr>\n",
       "      <td>8</td>\n",
       "      <td>1668.963674</td>\n",
       "      <td>6.139438</td>\n",
       "      <td>8.0</td>\n",
       "    </tr>\n",
       "    <tr>\n",
       "      <td>9</td>\n",
       "      <td>1639.061979</td>\n",
       "      <td>7.363469</td>\n",
       "      <td>9.0</td>\n",
       "    </tr>\n",
       "    <tr>\n",
       "      <td>10</td>\n",
       "      <td>1621.370297</td>\n",
       "      <td>8.663795</td>\n",
       "      <td>10.0</td>\n",
       "    </tr>\n",
       "  </tbody>\n",
       "</table>\n",
       "</div>"
      ],
      "text/plain": [
       "           RMSE  Learning time  Max depth\n",
       "1   2543.566962       1.672075        1.0\n",
       "2   2132.498132       2.104059        2.0\n",
       "3   1997.145487       2.529861        3.0\n",
       "4   1886.319488       3.502544        4.0\n",
       "5   1812.377789       3.761408        5.0\n",
       "6   1756.543077       4.385227        6.0\n",
       "7   1712.093577       5.158260        7.0\n",
       "8   1668.963674       6.139438        8.0\n",
       "9   1639.061979       7.363469        9.0\n",
       "10  1621.370297       8.663795       10.0"
      ]
     },
     "execution_count": 86,
     "metadata": {},
     "output_type": "execute_result"
    }
   ],
   "source": [
    "lgbi_df"
   ]
  },
  {
   "cell_type": "code",
   "execution_count": 87,
   "metadata": {},
   "outputs": [
    {
     "data": {
      "image/png": "[encoded data removed]",
      "text/plain": [
       "<Figure size 576x432 with 1 Axes>"
      ]
     },
     "metadata": {
      "needs_background": "light"
     },
     "output_type": "display_data"
    }
   ],
   "source": [
    "plt.figure(figsize = (8,6))\n",
    "sns.scatterplot(data = lgbi_df ,x ='RMSE', y='Learning time',size=\"Max depth\",sizes=(20, 200),legend=\"full\")\n",
    "plt.title('LGBM.RMSE от времени обучения для разной глубины деревьев')\n",
    "plt.show()"
   ]
  },
  {
   "cell_type": "markdown",
   "metadata": {},
   "source": [
    "Предположим что лучшая модель LGBMRegressor имеет следующием параметры:"
   ]
  },
  {
   "cell_type": "code",
   "execution_count": 88,
   "metadata": {},
   "outputs": [],
   "source": [
    "best_model = LGBMRegressor(n_estimators=1000,max_depth=10,num_leaves=2**10,random_state=RNS)\n"
   ]
  },
  {
   "cell_type": "markdown",
   "metadata": {},
   "source": [
    "Обучим и посмотри результаты"
   ]
  },
  {
   "cell_type": "code",
   "execution_count": 89,
   "metadata": {},
   "outputs": [
    {
     "data": {
      "text/plain": [
       "53.11714696884155"
      ]
     },
     "execution_count": 89,
     "metadata": {},
     "output_type": "execute_result"
    }
   ],
   "source": [
    "s = time.time()\n",
    "best_model.fit(x_train,y_train)\n",
    "e = time.time()\n",
    "l_time = e-s\n",
    "l_time"
   ]
  },
  {
   "cell_type": "code",
   "execution_count": 90,
   "metadata": {},
   "outputs": [
    {
     "name": "stdout",
     "output_type": "stream",
     "text": [
      "время обучения= 53.11714696884155 время предсказания= 27.34044051170349 RMSE =  1566.031256441059\n"
     ]
    }
   ],
   "source": [
    "s = time.time()\n",
    "RMSE = np.sqrt(mean_squared_error(y_test, best_model.predict(x_test)))\n",
    "e = time.time()\n",
    "p_time = e-s\n",
    "print('время обучения=',l_time,'время предсказания=',p_time,'RMSE = ',RMSE)"
   ]
  },
  {
   "cell_type": "markdown",
   "metadata": {},
   "source": [
    "### Вывод:\n",
    " "
   ]
  },
  {
   "cell_type": "markdown",
   "metadata": {},
   "source": [
    "- Выполнена подготовка данных и обучение разных типов моделей регрессии\n",
    "- линейные модели показали себя хуже остальных\n",
    "- остальные модели имеют более менее схожую метрику RMSE без дополнительных настроек ( диапазон от 1641 до 2166 );\n",
    "- при этом время обучения и время предсказаний для этих моделей существенно отличается (диапазон от 2-3 сек (Decision Tree, LightGBm) до 30 сек (Random Forest);\n",
    "- аналогично и для времение предсказания (диапазон от 0.009 (CatBoost) до 1.06 (Random Forest))\n",
    "\n",
    "\n",
    "Если усредниться до из \"коробки\" лучше всех работает модель регрессии из библиотеки LightGBm.\n",
    "\n",
    "Настройка модели показала, что при переборе гиперпараметров удается улучшить RMSE , но при этом приходится жертвовать временем предсказания и обучения."
   ]
  },
  {
   "cell_type": "markdown",
   "metadata": {},
   "source": [
    "## Чек-лист проверки"
   ]
  },
  {
   "cell_type": "markdown",
   "metadata": {},
   "source": [
    "Поставьте 'x' в выполненных пунктах. Далее нажмите Shift+Enter."
   ]
  },
  {
   "cell_type": "markdown",
   "metadata": {},
   "source": [
    "- [x]  Jupyter Notebook открыт\n",
    "- [x]  Весь код выполняется без ошибок\n",
    "- [x]  Ячейки с кодом расположены в порядке исполнения\n",
    "- [x]  Выполнена загрузка и подготовка данных\n",
    "- [x]  Выполнено обучение моделей\n",
    "- [x]  Есть анализ скорости работы и качества моделей"
   ]
  },
  {
   "cell_type": "code",
   "execution_count": null,
   "metadata": {},
   "outputs": [],
   "source": []
  }
 ],
 "metadata": {
  "kernelspec": {
   "display_name": "Python 3",
   "language": "python",
   "name": "python3"
  },
  "language_info": {
   "codemirror_mode": {
    "name": "ipython",
    "version": 3
   },
   "file_extension": ".py",
   "mimetype": "text/x-python",
   "name": "python",
   "nbconvert_exporter": "python",
   "pygments_lexer": "ipython3",
   "version": "3.7.8"
  },
  "toc": {
   "base_numbering": 1,
   "nav_menu": {},
   "number_sections": true,
   "sideBar": true,
   "skip_h1_title": true,
   "title_cell": "Table of Contents",
   "title_sidebar": "Contents",
   "toc_cell": false,
   "toc_position": {
    "height": "calc(100% - 180px)",
    "left": "10px",
    "top": "150px",
    "width": "308.375px"
   },
   "toc_section_display": true,
   "toc_window_display": true
  }
 },
 "nbformat": 4,
 "nbformat_minor": 2
}
