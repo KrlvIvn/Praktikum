{
 "cells": [
  {
   "cell_type": "markdown",
   "metadata": {
    "toc": true
   },
   "source": [
    "## Описание проекта\n",
    "Вам нужно защитить данные клиентов страховой компании «Хоть потоп». Разработайте такой метод преобразования данных, чтобы по ним было сложно восстановить персональную информацию. Обоснуйте корректность его работы.\n",
    "Нужно защитить данные, чтобы при преобразовании качество моделей машинного обучения не ухудшилось. Подбирать наилучшую модель не требуется."
   ]
  },
  {
   "cell_type": "markdown",
   "metadata": {},
   "source": [
    "# Защита персональных данных клиентов"
   ]
  },
  {
   "cell_type": "markdown",
   "metadata": {},
   "source": [
    "Вам нужно защитить данные клиентов страховой компании «Хоть потоп». Разработайте такой метод преобразования данных, чтобы по ним было сложно восстановить персональную информацию. Обоснуйте корректность его работы.\n",
    "\n",
    "Нужно защитить данные, чтобы при преобразовании качество моделей машинного обучения не ухудшилось. Подбирать наилучшую модель не требуется."
   ]
  },
  {
   "cell_type": "markdown",
   "metadata": {},
   "source": [
    "## Загрузка данных"
   ]
  },
  {
   "cell_type": "code",
   "execution_count": 1,
   "metadata": {},
   "outputs": [],
   "source": [
    "# \n",
    "import pandas as pd\n",
    "import numpy as np\n",
    "#\n",
    "from sklearn.discriminant_analysis import LinearDiscriminantAnalysis,QuadraticDiscriminantAnalysis\n",
    "from sklearn.neighbors import KNeighborsClassifier  \n",
    "from sklearn.naive_bayes import GaussianNB  \n",
    "from sklearn.svm import SVC\n",
    "from sklearn.tree import DecisionTreeClassifier,DecisionTreeRegressor\n",
    "from sklearn.metrics import accuracy_score,classification_report, confusion_matrix,r2_score,roc_curve,f1_score,\\\n",
    "mean_squared_error,roc_auc_score,recall_score,precision_score,make_scorer,precision_recall_curve,mean_absolute_error\n",
    "from sklearn.model_selection import train_test_split,GridSearchCV,StratifiedKFold,RandomizedSearchCV,cross_validate,\\\n",
    "cross_val_score,cross_val_predict\n",
    "from sklearn.dummy import DummyClassifier\n",
    "from sklearn.ensemble import RandomForestRegressor,RandomForestClassifier,GradientBoostingClassifier\n",
    "from sklearn.linear_model import LogisticRegression,LogisticRegressionCV,LinearRegression,LassoCV,RidgeCV\n",
    "from sklearn.preprocessing import StandardScaler, MinMaxScaler,LabelEncoder,OrdinalEncoder\n",
    "from sklearn import model_selection, svm\n",
    "from sklearn.utils import resample\n",
    "\n",
    "from IPython.display import display\n",
    "from joblib import dump,load\n",
    "from matplotlib import pyplot as plt\n",
    "import seaborn as sns\n",
    "from scipy import stats as st\n",
    "import random\n",
    "from tqdm import tqdm_notebook\n",
    "from tqdm.notebook import trange, tqdm\n",
    "\n",
    "import random\n",
    "\n",
    "import warnings\n",
    "warnings.filterwarnings(\"ignore\")\n",
    "\n",
    "import time\n",
    "import calendar"
   ]
  },
  {
   "cell_type": "code",
   "execution_count": 2,
   "metadata": {},
   "outputs": [
    {
     "data": {
      "text/html": [
       "<div>\n",
       "<style scoped>\n",
       "    .dataframe tbody tr th:only-of-type {\n",
       "        vertical-align: middle;\n",
       "    }\n",
       "\n",
       "    .dataframe tbody tr th {\n",
       "        vertical-align: top;\n",
       "    }\n",
       "\n",
       "    .dataframe thead th {\n",
       "        text-align: right;\n",
       "    }\n",
       "</style>\n",
       "<table border=\"1\" class=\"dataframe\">\n",
       "  <thead>\n",
       "    <tr style=\"text-align: right;\">\n",
       "      <th></th>\n",
       "      <th>Пол</th>\n",
       "      <th>Возраст</th>\n",
       "      <th>Зарплата</th>\n",
       "      <th>Члены семьи</th>\n",
       "      <th>Страховые выплаты</th>\n",
       "    </tr>\n",
       "  </thead>\n",
       "  <tbody>\n",
       "    <tr>\n",
       "      <td>0</td>\n",
       "      <td>1</td>\n",
       "      <td>41.0</td>\n",
       "      <td>49600.0</td>\n",
       "      <td>1</td>\n",
       "      <td>0</td>\n",
       "    </tr>\n",
       "    <tr>\n",
       "      <td>1</td>\n",
       "      <td>0</td>\n",
       "      <td>46.0</td>\n",
       "      <td>38000.0</td>\n",
       "      <td>1</td>\n",
       "      <td>1</td>\n",
       "    </tr>\n",
       "    <tr>\n",
       "      <td>2</td>\n",
       "      <td>0</td>\n",
       "      <td>29.0</td>\n",
       "      <td>21000.0</td>\n",
       "      <td>0</td>\n",
       "      <td>0</td>\n",
       "    </tr>\n",
       "    <tr>\n",
       "      <td>3</td>\n",
       "      <td>0</td>\n",
       "      <td>21.0</td>\n",
       "      <td>41700.0</td>\n",
       "      <td>2</td>\n",
       "      <td>0</td>\n",
       "    </tr>\n",
       "    <tr>\n",
       "      <td>4</td>\n",
       "      <td>1</td>\n",
       "      <td>28.0</td>\n",
       "      <td>26100.0</td>\n",
       "      <td>0</td>\n",
       "      <td>0</td>\n",
       "    </tr>\n",
       "  </tbody>\n",
       "</table>\n",
       "</div>"
      ],
      "text/plain": [
       "   Пол  Возраст  Зарплата  Члены семьи  Страховые выплаты\n",
       "0    1     41.0   49600.0            1                  0\n",
       "1    0     46.0   38000.0            1                  1\n",
       "2    0     29.0   21000.0            0                  0\n",
       "3    0     21.0   41700.0            2                  0\n",
       "4    1     28.0   26100.0            0                  0"
      ]
     },
     "execution_count": 2,
     "metadata": {},
     "output_type": "execute_result"
    }
   ],
   "source": [
    "# 2 варианта чтобы открыть файл:\n",
    "# сразу будем создавать time index,так удобнее сортировать данные в дальнейшем\n",
    "try:\n",
    "    df = pd.read_csv('/datasets/insurance.csv')\n",
    "except FileNotFoundError:\n",
    "    df = pd.read_csv('https://code.s3.yandex.net/datasets/insurance.csv')\n",
    "    #print('FileNotFoundError')\n",
    "df.head()"
   ]
  },
  {
   "cell_type": "code",
   "execution_count": 3,
   "metadata": {},
   "outputs": [],
   "source": [
    "#функция дает первичное представление об исходных данных: типы данных,количество пропусков,кол-во дубликатов,\n",
    "#хар-ки числовых столбцов \n",
    "def df_info(df):\n",
    "    print(80*\"+\")\n",
    "    #print(f'Название таблицы : {df.name}')\n",
    "    #print(80*\"+\")\n",
    "    df.info()\n",
    "    print(80*\"+\")\n",
    "    print('Описание количественных переменных:')\n",
    "    print(df.describe(percentiles=[.25,.5]))\n",
    "    print(80*\"+\")\n",
    "    print(f'количество дубликатов в таблице = {df.duplicated().sum()}')"
   ]
  },
  {
   "cell_type": "code",
   "execution_count": 4,
   "metadata": {},
   "outputs": [
    {
     "name": "stdout",
     "output_type": "stream",
     "text": [
      "++++++++++++++++++++++++++++++++++++++++++++++++++++++++++++++++++++++++++++++++\n",
      "<class 'pandas.core.frame.DataFrame'>\n",
      "RangeIndex: 5000 entries, 0 to 4999\n",
      "Data columns (total 5 columns):\n",
      "Пол                  5000 non-null int64\n",
      "Возраст              5000 non-null float64\n",
      "Зарплата             5000 non-null float64\n",
      "Члены семьи          5000 non-null int64\n",
      "Страховые выплаты    5000 non-null int64\n",
      "dtypes: float64(2), int64(3)\n",
      "memory usage: 195.4 KB\n",
      "++++++++++++++++++++++++++++++++++++++++++++++++++++++++++++++++++++++++++++++++\n",
      "Описание количественных переменных:\n",
      "               Пол      Возраст      Зарплата  Члены семьи  Страховые выплаты\n",
      "count  5000.000000  5000.000000   5000.000000  5000.000000        5000.000000\n",
      "mean      0.499000    30.952800  39916.360000     1.194200           0.148000\n",
      "std       0.500049     8.440807   9900.083569     1.091387           0.463183\n",
      "min       0.000000    18.000000   5300.000000     0.000000           0.000000\n",
      "25%       0.000000    24.000000  33300.000000     0.000000           0.000000\n",
      "50%       0.000000    30.000000  40200.000000     1.000000           0.000000\n",
      "max       1.000000    65.000000  79000.000000     6.000000           5.000000\n",
      "++++++++++++++++++++++++++++++++++++++++++++++++++++++++++++++++++++++++++++++++\n",
      "количество дубликатов в таблице = 153\n"
     ]
    }
   ],
   "source": [
    "df_info(df)"
   ]
  },
  {
   "cell_type": "code",
   "execution_count": 5,
   "metadata": {},
   "outputs": [
    {
     "data": {
      "text/html": [
       "<div>\n",
       "<style scoped>\n",
       "    .dataframe tbody tr th:only-of-type {\n",
       "        vertical-align: middle;\n",
       "    }\n",
       "\n",
       "    .dataframe tbody tr th {\n",
       "        vertical-align: top;\n",
       "    }\n",
       "\n",
       "    .dataframe thead th {\n",
       "        text-align: right;\n",
       "    }\n",
       "</style>\n",
       "<table border=\"1\" class=\"dataframe\">\n",
       "  <thead>\n",
       "    <tr style=\"text-align: right;\">\n",
       "      <th></th>\n",
       "      <th>Пол</th>\n",
       "      <th>Возраст</th>\n",
       "      <th>Зарплата</th>\n",
       "      <th>Члены семьи</th>\n",
       "      <th>Страховые выплаты</th>\n",
       "    </tr>\n",
       "  </thead>\n",
       "  <tbody>\n",
       "    <tr>\n",
       "      <td>2955</td>\n",
       "      <td>1</td>\n",
       "      <td>32.0</td>\n",
       "      <td>21600.0</td>\n",
       "      <td>0</td>\n",
       "      <td>0</td>\n",
       "    </tr>\n",
       "    <tr>\n",
       "      <td>2988</td>\n",
       "      <td>1</td>\n",
       "      <td>32.0</td>\n",
       "      <td>21600.0</td>\n",
       "      <td>0</td>\n",
       "      <td>0</td>\n",
       "    </tr>\n",
       "    <tr>\n",
       "      <td>361</td>\n",
       "      <td>0</td>\n",
       "      <td>50.0</td>\n",
       "      <td>24700.0</td>\n",
       "      <td>1</td>\n",
       "      <td>2</td>\n",
       "    </tr>\n",
       "    <tr>\n",
       "      <td>2869</td>\n",
       "      <td>0</td>\n",
       "      <td>50.0</td>\n",
       "      <td>24700.0</td>\n",
       "      <td>1</td>\n",
       "      <td>2</td>\n",
       "    </tr>\n",
       "    <tr>\n",
       "      <td>333</td>\n",
       "      <td>0</td>\n",
       "      <td>32.0</td>\n",
       "      <td>25600.0</td>\n",
       "      <td>1</td>\n",
       "      <td>0</td>\n",
       "    </tr>\n",
       "    <tr>\n",
       "      <td>4230</td>\n",
       "      <td>0</td>\n",
       "      <td>32.0</td>\n",
       "      <td>25600.0</td>\n",
       "      <td>1</td>\n",
       "      <td>0</td>\n",
       "    </tr>\n",
       "    <tr>\n",
       "      <td>1378</td>\n",
       "      <td>0</td>\n",
       "      <td>36.0</td>\n",
       "      <td>26400.0</td>\n",
       "      <td>0</td>\n",
       "      <td>0</td>\n",
       "    </tr>\n",
       "    <tr>\n",
       "      <td>2723</td>\n",
       "      <td>0</td>\n",
       "      <td>36.0</td>\n",
       "      <td>26400.0</td>\n",
       "      <td>0</td>\n",
       "      <td>0</td>\n",
       "    </tr>\n",
       "    <tr>\n",
       "      <td>1002</td>\n",
       "      <td>1</td>\n",
       "      <td>34.0</td>\n",
       "      <td>26900.0</td>\n",
       "      <td>0</td>\n",
       "      <td>0</td>\n",
       "    </tr>\n",
       "    <tr>\n",
       "      <td>1140</td>\n",
       "      <td>1</td>\n",
       "      <td>34.0</td>\n",
       "      <td>26900.0</td>\n",
       "      <td>0</td>\n",
       "      <td>0</td>\n",
       "    </tr>\n",
       "  </tbody>\n",
       "</table>\n",
       "</div>"
      ],
      "text/plain": [
       "      Пол  Возраст  Зарплата  Члены семьи  Страховые выплаты\n",
       "2955    1     32.0   21600.0            0                  0\n",
       "2988    1     32.0   21600.0            0                  0\n",
       "361     0     50.0   24700.0            1                  2\n",
       "2869    0     50.0   24700.0            1                  2\n",
       "333     0     32.0   25600.0            1                  0\n",
       "4230    0     32.0   25600.0            1                  0\n",
       "1378    0     36.0   26400.0            0                  0\n",
       "2723    0     36.0   26400.0            0                  0\n",
       "1002    1     34.0   26900.0            0                  0\n",
       "1140    1     34.0   26900.0            0                  0"
      ]
     },
     "execution_count": 5,
     "metadata": {},
     "output_type": "execute_result"
    }
   ],
   "source": [
    "# посмотрим примеры строк с полным повторениями,т.е. дублями\n",
    "# отсортируем по Зарплате, так легче увидеть повторы\n",
    "\n",
    "df.loc[df.duplicated(keep=False)].sort_values(by='Зарплата').head(10)\n",
    "\n",
    "#pd.concat(i for _,i in df.loc[df.duplicated(keep=False)].groupby(\"Зарплата\") if len(i) > 1)"
   ]
  },
  {
   "cell_type": "code",
   "execution_count": 6,
   "metadata": {},
   "outputs": [
    {
     "name": "stdout",
     "output_type": "stream",
     "text": [
      "++++++++++++++++++++++++++++++++++++++++++++++++++++++++++++++++++++++++++++++++\n",
      "<class 'pandas.core.frame.DataFrame'>\n",
      "Int64Index: 4847 entries, 0 to 4999\n",
      "Data columns (total 5 columns):\n",
      "Пол                  4847 non-null int64\n",
      "Возраст              4847 non-null float64\n",
      "Зарплата             4847 non-null float64\n",
      "Члены семьи          4847 non-null int64\n",
      "Страховые выплаты    4847 non-null int64\n",
      "dtypes: float64(2), int64(3)\n",
      "memory usage: 227.2 KB\n",
      "++++++++++++++++++++++++++++++++++++++++++++++++++++++++++++++++++++++++++++++++\n",
      "Описание количественных переменных:\n",
      "               Пол      Возраст      Зарплата  Члены семьи  Страховые выплаты\n",
      "count  4847.000000  4847.000000   4847.000000  4847.000000        4847.000000\n",
      "mean      0.498453    31.023932  39895.811842     1.203425           0.152259\n",
      "std       0.500049     8.487995   9972.953985     1.098664           0.468934\n",
      "min       0.000000    18.000000   5300.000000     0.000000           0.000000\n",
      "25%       0.000000    24.000000  33200.000000     0.000000           0.000000\n",
      "50%       0.000000    30.000000  40200.000000     1.000000           0.000000\n",
      "max       1.000000    65.000000  79000.000000     6.000000           5.000000\n",
      "++++++++++++++++++++++++++++++++++++++++++++++++++++++++++++++++++++++++++++++++\n",
      "количество дубликатов в таблице = 0\n"
     ]
    }
   ],
   "source": [
    "# удалил дубликаты!\n",
    "df = df.drop_duplicates()\n",
    "df_info(df)"
   ]
  },
  {
   "cell_type": "markdown",
   "metadata": {},
   "source": [
    "### Подитог:\n",
    "- загрузил данные;\n",
    "- удалил 153 строки дубликатов, точно не пригодятся эти данные;\n",
    "- т.к. в данном проекте не требутеся аналитика/предобработка данных, но судя по describe данные хорошие, пропусков нет, выбросов тоже."
   ]
  },
  {
   "cell_type": "markdown",
   "metadata": {},
   "source": [
    "## Умножение матриц"
   ]
  },
  {
   "cell_type": "markdown",
   "metadata": {},
   "source": [
    "### Ответьте на вопрос и обоснуйте решение.\n",
    "Признаки умножают на обратимую матрицу. Изменится ли качество линейной регрессии? (Её можно обучить заново.)\n",
    "- Изменится. Приведите примеры матриц.\n",
    "- Не изменится. Укажите, как связаны параметры линейной регрессии в исходной задаче и в преобразованной."
   ]
  },
  {
   "cell_type": "code",
   "execution_count": 7,
   "metadata": {},
   "outputs": [],
   "source": [
    "# разделим данные на признаки и таргет\n",
    "X = df.drop(labels = \"Страховые выплаты\",axis = 1)\n",
    "y = df[\"Страховые выплаты\"]"
   ]
  },
  {
   "cell_type": "code",
   "execution_count": 8,
   "metadata": {},
   "outputs": [
    {
     "name": "stdout",
     "output_type": "stream",
     "text": [
      "(4847, 4) (4847,)\n"
     ]
    }
   ],
   "source": [
    "# проверим полученные размерности\n",
    "print(X.shape,y.shape)"
   ]
  },
  {
   "cell_type": "code",
   "execution_count": 9,
   "metadata": {},
   "outputs": [
    {
     "data": {
      "text/plain": [
       "(4847, 5)"
      ]
     },
     "execution_count": 9,
     "metadata": {},
     "output_type": "execute_result"
    }
   ],
   "source": [
    "# добавим 1 вектор, что соответствует w0\n",
    "X = np.concatenate((np.ones((X.shape[0], 1)), X), axis=1)\n",
    "X.shape"
   ]
  },
  {
   "cell_type": "markdown",
   "metadata": {},
   "source": [
    "<font color='green'>  \n",
    "**UPD**:  \n",
    "\n",
    "Создададим различные варианты матриц для дальнейшего домножения на X.  \n",
    "Также посмотрим детерминант матриц , что будет подтверждать обратима или необратима матрица\n",
    "\n",
    "</font>\n",
    "\n",
    "Обратимые матрицы:  \n",
    "\n",
    "$X$ - исходная матрица;  \n",
    "$E$ - единичная матрица;  \n",
    "$R$ - рандомная(обратимая) матрица;  \n",
    "$Q$ - матрица полученная $X.T @ X$  \n",
    "\n",
    "Необратимая матрица:  \n",
    "$M$ - матрица со всеми 0.\n",
    "\n",
    "\n",
    "все матрицы имеют размерность равную n x n.  \n",
    "где n = длина вектора признаков, т.е. 5\n",
    "\n",
    "В задании простя домножить Признаки на обратимую матрицу, т.е. домножить справа!"
   ]
  },
  {
   "cell_type": "code",
   "execution_count": 10,
   "metadata": {},
   "outputs": [],
   "source": [
    "# функция проверяет матрицу на обратимость, высчитывает определитель \n",
    "def error_inv(X):\n",
    "    try: \n",
    "        np.linalg.inv(X)\n",
    "        print(\"Матрица обратима, детерминант = \",np.linalg.det(X))\n",
    "    except np.linalg.LinAlgError:\n",
    "        try:\n",
    "            print(\"Матрица необратима, детерминант = \",np.linalg.det(X))\n",
    "        except:\n",
    "            print(\"Матрицы не удовлетваоряет требования к обратимой матрице, возможно неквадратная!\")"
   ]
  },
  {
   "cell_type": "code",
   "execution_count": 11,
   "metadata": {},
   "outputs": [
    {
     "name": "stdout",
     "output_type": "stream",
     "text": [
      "Матрицы не удовлетваоряет требования к обратимой матрице, возможно неквадратная!\n"
     ]
    }
   ],
   "source": [
    "error_inv(X)"
   ]
  },
  {
   "cell_type": "code",
   "execution_count": 12,
   "metadata": {},
   "outputs": [
    {
     "data": {
      "text/plain": [
       "array([[1., 0., 0., 0., 0.],\n",
       "       [0., 1., 0., 0., 0.],\n",
       "       [0., 0., 1., 0., 0.],\n",
       "       [0., 0., 0., 1., 0.],\n",
       "       [0., 0., 0., 0., 1.]])"
      ]
     },
     "execution_count": 12,
     "metadata": {},
     "output_type": "execute_result"
    }
   ],
   "source": [
    "E = np.eye(5)\n",
    "E"
   ]
  },
  {
   "cell_type": "code",
   "execution_count": 13,
   "metadata": {},
   "outputs": [
    {
     "name": "stdout",
     "output_type": "stream",
     "text": [
      "Матрица обратима, детерминант =  1.0\n"
     ]
    }
   ],
   "source": [
    "error_inv(E)"
   ]
  },
  {
   "cell_type": "code",
   "execution_count": 14,
   "metadata": {},
   "outputs": [
    {
     "data": {
      "text/plain": [
       "(4847, 5)"
      ]
     },
     "execution_count": 14,
     "metadata": {},
     "output_type": "execute_result"
    }
   ],
   "source": [
    "X_E = X.dot(E)\n",
    "X_E.shape"
   ]
  },
  {
   "cell_type": "code",
   "execution_count": 15,
   "metadata": {},
   "outputs": [
    {
     "data": {
      "text/plain": [
       "array([[0.5488135 , 0.71518937, 0.60276338, 0.54488318, 0.4236548 ],\n",
       "       [0.64589411, 0.43758721, 0.891773  , 0.96366276, 0.38344152],\n",
       "       [0.79172504, 0.52889492, 0.56804456, 0.92559664, 0.07103606],\n",
       "       [0.0871293 , 0.0202184 , 0.83261985, 0.77815675, 0.87001215],\n",
       "       [0.97861834, 0.79915856, 0.46147936, 0.78052918, 0.11827443]])"
      ]
     },
     "execution_count": 15,
     "metadata": {},
     "output_type": "execute_result"
    }
   ],
   "source": [
    "np.random.seed(0)\n",
    "R = []\n",
    "for i in range(5):\n",
    "    vector = np.random.rand(5)\n",
    "    R.append(vector)\n",
    "    \n",
    "R = np.array(R)\n",
    "R"
   ]
  },
  {
   "cell_type": "code",
   "execution_count": 16,
   "metadata": {},
   "outputs": [
    {
     "name": "stdout",
     "output_type": "stream",
     "text": [
      "Матрица обратима, детерминант =  0.009658225505885123\n"
     ]
    }
   ],
   "source": [
    "error_inv(R)"
   ]
  },
  {
   "cell_type": "code",
   "execution_count": 17,
   "metadata": {},
   "outputs": [
    {
     "data": {
      "text/plain": [
       "(4847, 5)"
      ]
     },
     "execution_count": 17,
     "metadata": {},
     "output_type": "execute_result"
    }
   ],
   "source": [
    "X_R = X.dot(R)\n",
    "X_R.shape"
   ]
  },
  {
   "cell_type": "code",
   "execution_count": 18,
   "metadata": {},
   "outputs": [
    {
     "data": {
      "text/plain": [
       "array([[4.84700000e+03, 2.41600000e+03, 1.50373000e+05, 1.93375000e+08,\n",
       "        5.83300000e+03],\n",
       "       [2.41600000e+03, 2.41600000e+03, 7.49940000e+04, 9.67618000e+07,\n",
       "        2.88800000e+03],\n",
       "       [1.50373000e+05, 7.49940000e+04, 5.01429700e+06, 5.99212070e+09,\n",
       "        1.80553000e+05],\n",
       "       [1.93375000e+08, 9.67618000e+07, 5.99212070e+09, 8.19683486e+12,\n",
       "        2.31029800e+08],\n",
       "       [5.83300000e+03, 2.88800000e+03, 1.80553000e+05, 2.31029800e+08,\n",
       "        1.28690000e+04]])"
      ]
     },
     "execution_count": 18,
     "metadata": {},
     "output_type": "execute_result"
    }
   ],
   "source": [
    "Q = X.T @ X\n",
    "Q "
   ]
  },
  {
   "cell_type": "code",
   "execution_count": 19,
   "metadata": {},
   "outputs": [
    {
     "name": "stdout",
     "output_type": "stream",
     "text": [
      "Матрица обратима, детерминант =  5.771461849364651e+27\n"
     ]
    }
   ],
   "source": [
    "error_inv(Q)"
   ]
  },
  {
   "cell_type": "code",
   "execution_count": 20,
   "metadata": {},
   "outputs": [
    {
     "data": {
      "text/plain": [
       "(4847, 5)"
      ]
     },
     "execution_count": 20,
     "metadata": {},
     "output_type": "execute_result"
    }
   ],
   "source": [
    "X_Q = X.dot(Q)\n",
    "X_Q.shape"
   ]
  },
  {
   "cell_type": "code",
   "execution_count": 21,
   "metadata": {},
   "outputs": [
    {
     "data": {
      "text/plain": [
       "array([[0., 0., 0., 0., 0.],\n",
       "       [0., 0., 0., 0., 0.],\n",
       "       [0., 0., 0., 0., 0.],\n",
       "       [0., 0., 0., 0., 0.],\n",
       "       [0., 0., 0., 0., 0.]])"
      ]
     },
     "execution_count": 21,
     "metadata": {},
     "output_type": "execute_result"
    }
   ],
   "source": [
    "M = np.copy(R)\n",
    "M[:,:] = 0\n",
    "M"
   ]
  },
  {
   "cell_type": "code",
   "execution_count": 22,
   "metadata": {},
   "outputs": [
    {
     "name": "stdout",
     "output_type": "stream",
     "text": [
      "Матрица необратима, детерминант =  0.0\n"
     ]
    }
   ],
   "source": [
    "error_inv(M)\n"
   ]
  },
  {
   "cell_type": "code",
   "execution_count": 23,
   "metadata": {},
   "outputs": [
    {
     "data": {
      "text/plain": [
       "(4847, 5)"
      ]
     },
     "execution_count": 23,
     "metadata": {},
     "output_type": "execute_result"
    }
   ],
   "source": [
    "X_M = X.dot(M)\n",
    "X_M.shape"
   ]
  },
  {
   "cell_type": "markdown",
   "metadata": {},
   "source": [
    "Свойства обратной матрицы:  \n",
    "2. Матрица $А$ называется обратной, если существует матрица $В$, удовлетворяющая выражению:\n",
    "$ AB = BA = E $,\n",
    "где $E$ - единичная матрица.\n",
    "$А$ и $В$ называются взаимно обратными\n",
    "3. Если матрица $А$ обратима, то для нее существует только **одна** матрица обратная к $А$.Обратная матрица обозначается как $A^-1$  \n",
    "4. Если матрица $А$ обратима , то матрица $A^-1$ также является обратимой  \n",
    "5. Произведение любого числа обратимых матриц дает обратимую матрицы  \n",
    "6. Определить необратимой матрицы $= 0$, определитель обратимой матрицы $\\not= 0$  \n",
    "7. $(A.T)^-1$ = $(A^-1).T$"
   ]
  },
  {
   "cell_type": "markdown",
   "metadata": {},
   "source": [
    "Доказательство п.3:  \n",
    "Предположим матрица $A$ имеет 2 обратных матрицы $B$ и $C$, тогда:  \n",
    "    \n",
    "$ AC = E = BA \\Rightarrow $   \n",
    "$ B = BE = B(AC)= (BA)C = EC = C \\Rightarrow$     \n",
    "$ B = C $   \n",
    "</font>\n"
   ]
  },
  {
   "cell_type": "markdown",
   "metadata": {},
   "source": [
    "**Обозначения:**\n",
    "\n",
    "- $X$ — матрица признаков (нулевой столбец состоит из единиц)\n",
    "\n",
    "- $y$ — вектор целевого признака\n",
    "\n",
    "- $P$ — матрица, на которую умножаются признаки\n",
    "\n",
    "- $w$ — вектор весов линейной регрессии (нулевой элемент равен сдвигу)\n",
    "\n",
    "- $w*$ - вектор весов линейной регрессии матрицы полученной домножение исходной на обратимую матрицу(нулевой элемент равен сдвигу)\n",
    "\n",
    "- $\\hat{y}$ - предсказания по исходной матрице признаков\n",
    "\n",
    "- $\\hat{y}*$ - предсказания по матрице полученной домноженной на обратимую матрицу"
   ]
  },
  {
   "cell_type": "markdown",
   "metadata": {},
   "source": [
    "**Основные свойства обратной матрицы:**\n",
    "\n",
    "- $$det(A) = \\frac{1}  {det(A)} $$\n",
    "- $$(AB)^{-1} = B^{-1}A^{-1}$$ для двух квадратных обратимых матриц $A$ и $B$\n",
    "- $$(A^T)^{-1} = ((A)^{-1})^T$$\n",
    "\n",
    "\n"
   ]
  },
  {
   "cell_type": "markdown",
   "metadata": {},
   "source": [
    "**Основные свойства единичной матрицы:**\n",
    "- $$AE = EA = A$$\n",
    "- $$AA^{-1}=E$$\n"
   ]
  },
  {
   "cell_type": "markdown",
   "metadata": {},
   "source": [
    "**Сочетательное свойство матриц, ассоциативность:**\n",
    "- $$A(BC) = (AB)C$$"
   ]
  },
  {
   "cell_type": "markdown",
   "metadata": {},
   "source": [
    " "
   ]
  },
  {
   "cell_type": "markdown",
   "metadata": {},
   "source": [
    "\n",
    "\n",
    "<h4><center>Исходная матрица признаков $X$</center></h4>  \n",
    "  \n",
    "Предсказания:\n",
    "\n",
    "\n",
    "$$\n",
    "\\hat{y} = Xw\n",
    "$$\n",
    "\n",
    "\n",
    "Формула обучения:\n",
    "\n",
    "$$\n",
    "w = (X^T X)^{-1} X^T y\n",
    "$$"
   ]
  },
  {
   "cell_type": "markdown",
   "metadata": {},
   "source": [
    "Распишем формулу предсказания:\n",
    "$$\n",
    "\\hat{y} = X (X^T X)^{-1} X^T y\n",
    "$$"
   ]
  },
  {
   "cell_type": "markdown",
   "metadata": {},
   "source": [
    "- раскрываем скобки:\n",
    "$$\n",
    "\\hat{y} = X (X)^{-1} (X^T)^{-1} X^T y\n",
    "$$"
   ]
  },
  {
   "cell_type": "markdown",
   "metadata": {},
   "source": [
    "- по свойству единичной матрицы получаем:\n",
    "$$\n",
    "\\hat{y} = E E y\n",
    "$$"
   ]
  },
  {
   "cell_type": "markdown",
   "metadata": {},
   "source": [
    "- или \n",
    "$$\n",
    "\\hat{y} = y\n",
    "$$\n",
    "\n",
    "Доказали формулу для вычисления предсказаний."
   ]
  },
  {
   "cell_type": "markdown",
   "metadata": {},
   "source": [
    "<h4><center>Новая матрица признаков $X.dot(P)$</center></h4>  \n",
    "\n",
    "\n",
    "Предсказания:\n",
    "\n",
    "$$\n",
    "\\hat{y}* = XPw*\n",
    "$$"
   ]
  },
  {
   "cell_type": "markdown",
   "metadata": {},
   "source": [
    "Формула обучения:\n",
    "\n",
    "$$\n",
    "w* = ((XP)^T XP)^{-1} (XP)^T y\n",
    "$$\n"
   ]
  },
  {
   "cell_type": "markdown",
   "metadata": {},
   "source": [
    "Раскроем транспонирование матриц:\n",
    "$$\n",
    "w* = (P^T X^T XP)^{-1} P^TX^T y\n",
    "$$"
   ]
  },
  {
   "cell_type": "markdown",
   "metadata": {},
   "source": [
    "Раскроем скобки для произведения обратных матриц:\n",
    "$$\n",
    "w* = (XP)^{-1}(P^T X^T)^{-1} P^TX^T y\n",
    "$$"
   ]
  },
  {
   "cell_type": "markdown",
   "metadata": {},
   "source": [
    "Еще раз раскроем скобки для произведения обратных матриц:\n",
    "$$\n",
    "w* = P^{-1}X^{-1}(X^T)^{-1}(P^T)^{-1}P^TX^T y\n",
    "$$"
   ]
  },
  {
   "cell_type": "markdown",
   "metadata": {},
   "source": [
    "Сокращаем произведение матриц $(P^T)^{-1}P^T$ по свойству единичной матрицы. Получаем $E$ или $1$, т.е. можно опустить ;\n",
    "$$\n",
    "w* = P^{-1}X^{-1}(X^T)^{-1}X^T y\n",
    "$$\n",
    "или\n",
    "$$\n",
    "w* = P^{-1}(X^TX)^{-1}X^T y\n",
    "$$"
   ]
  },
  {
   "cell_type": "markdown",
   "metadata": {},
   "source": [
    " \n",
    " "
   ]
  },
  {
   "cell_type": "markdown",
   "metadata": {},
   "source": [
    "Распишем предсказания по новым признакам с учетом полученной формулы для $w*$:\n",
    "\n",
    "\n",
    "$$\n",
    "\\hat{y}* = XPP^{-1}(X^TX)^{-1}X^T y\n",
    "$$\n"
   ]
  },
  {
   "cell_type": "markdown",
   "metadata": {},
   "source": [
    "Сокращаем произведение матриц $P(P)^{-1}$ по свойству единичной матрицы. Получаем $E$ или $1$, т.е. можно опустить ;\n",
    "$$\n",
    "\\hat{y}* = X(X^TX)^{-1}X^T y\n",
    "$$"
   ]
  },
  {
   "cell_type": "markdown",
   "metadata": {},
   "source": [
    "**Получили формулу для $\\hat{y}*$ которая полностью совпадает с формулой для $\\hat{y}$**\n",
    "\n",
    "Из этого можно сделать вывод, что независимо от того, какую метрику будем использовать MSE,MAE или R2 **значения метрик не изменятся!**\n",
    "\n",
    "Также из формул выше видно, что коэф.исходной и домноженной матриц связаны как: $w* = P^{-1}w$\n"
   ]
  },
  {
   "cell_type": "markdown",
   "metadata": {},
   "source": [
    " "
   ]
  },
  {
   "cell_type": "markdown",
   "metadata": {},
   "source": [
    "Задача обучения:\n",
    "\n",
    "$$\n",
    "w = \\arg\\min_w MSE(Xw, y)\n",
    "$$\n",
    "\n",
    "Формула обучения:\n",
    "\n",
    "$$\n",
    "w = (X^T X)^{-1} X^T y\n",
    "$$"
   ]
  },
  {
   "cell_type": "markdown",
   "metadata": {},
   "source": [
    "Формула MSE согласно sklearn:\n",
    "$${MSE}(y, \\hat{y}) = \\frac{1}{n_\\text{samples}} \\sum_{i=0}^{n_\\text{samples} - 1} (y_i - \\hat{y}_i)^2.$$"
   ]
  },
  {
   "cell_type": "markdown",
   "metadata": {},
   "source": [
    "Формула MAE согласно sklearn:  \n",
    "$$ {MAE}(y, \\hat{y}) = \\frac{1}{n_{\\text{samples}}} \\sum_{i=0}^{n_{\\text{samples}}-1} \\left| y_i - \\hat{y}_i \\right|.$$"
   ]
  },
  {
   "cell_type": "markdown",
   "metadata": {},
   "source": [
    "**Примеры полученных метрик при перемножении исходной матрицы на обратимые и необратимую матрицы:**"
   ]
  },
  {
   "cell_type": "code",
   "execution_count": 24,
   "metadata": {},
   "outputs": [],
   "source": [
    "def metrics(X,y,name):\n",
    "    model = LinearRegression()\n",
    "    model.fit(X,y)\n",
    "    predict = model.predict(X)\n",
    "    return print(\"Метрика MSE для матрицы\",name,\"равна\",mean_squared_error(y,predict))"
   ]
  },
  {
   "cell_type": "code",
   "execution_count": 25,
   "metadata": {},
   "outputs": [
    {
     "name": "stdout",
     "output_type": "stream",
     "text": [
      "Метрика MSE для матрицы X равна 0.125272638266816\n"
     ]
    }
   ],
   "source": [
    "metrics(X,y,name = 'X')"
   ]
  },
  {
   "cell_type": "code",
   "execution_count": 26,
   "metadata": {},
   "outputs": [
    {
     "name": "stdout",
     "output_type": "stream",
     "text": [
      "Метрика MSE для матрицы X_E равна 0.125272638266816\n"
     ]
    }
   ],
   "source": [
    "metrics(X_E,y,name = 'X_E')"
   ]
  },
  {
   "cell_type": "code",
   "execution_count": 27,
   "metadata": {},
   "outputs": [
    {
     "name": "stdout",
     "output_type": "stream",
     "text": [
      "Метрика MSE для матрицы X_R равна 0.1252724079401175\n"
     ]
    }
   ],
   "source": [
    "metrics(X_R,y,name = 'X_R')"
   ]
  },
  {
   "cell_type": "code",
   "execution_count": 28,
   "metadata": {},
   "outputs": [
    {
     "name": "stdout",
     "output_type": "stream",
     "text": [
      "Метрика MSE для матрицы X_Q равна 0.12527264044835446\n"
     ]
    }
   ],
   "source": [
    "metrics(X_Q,y,name = 'X_Q')"
   ]
  },
  {
   "cell_type": "code",
   "execution_count": 29,
   "metadata": {},
   "outputs": [
    {
     "name": "stdout",
     "output_type": "stream",
     "text": [
      "Метрика MSE для матрицы X_M равна 0.2198540875868632\n"
     ]
    }
   ],
   "source": [
    "metrics(X_M,y,name = 'X_M')"
   ]
  },
  {
   "cell_type": "markdown",
   "metadata": {},
   "source": [
    "По результатам видно, что метрика нулевой (необратимой матрицы) значительно хуже метрик для обратимых матриц и исходной матрицы.  \n",
    "Метрики обратимых матриц и исходной сопадают, не изменились \n",
    "**UPD (в пределах погрешности для типа данных float)**\n"
   ]
  },
  {
   "cell_type": "code",
   "execution_count": 30,
   "metadata": {},
   "outputs": [
    {
     "data": {
      "text/plain": [
       "sys.float_info(max=1.7976931348623157e+308, max_exp=1024, max_10_exp=308, min=2.2250738585072014e-308, min_exp=-1021, min_10_exp=-307, dig=15, mant_dig=53, epsilon=2.220446049250313e-16, radix=2, rounds=1)"
      ]
     },
     "execution_count": 30,
     "metadata": {},
     "output_type": "execute_result"
    }
   ],
   "source": [
    "import sys\n",
    "sys.float_info"
   ]
  },
  {
   "cell_type": "markdown",
   "metadata": {},
   "source": [
    "\n",
    "**Ответ:** качество линейной регрессии **не изменится**\n",
    "\n",
    "**Обоснование:**   \n",
    "- выше приведено доказательство того, что предсказания исходной матрицы = предсказаниям исходной матрицы домноженной на обратимую матрицу"
   ]
  },
  {
   "cell_type": "markdown",
   "metadata": {},
   "source": [
    "## Алгоритм преобразования"
   ]
  },
  {
   "cell_type": "markdown",
   "metadata": {},
   "source": [
    "### Предложите алгоритм преобразования данных для решения задачи. Обоснуйте, почему качество линейной регрессии не поменяется."
   ]
  },
  {
   "cell_type": "markdown",
   "metadata": {},
   "source": [
    "Основная задача проекта защитить данные клиентов страховой компании:\n",
    "- разработать алгоритм преобразования данных, чтобы по ним было сложно восстановить персональную информаци;\n",
    "- обосновать корректность его работы."
   ]
  },
  {
   "cell_type": "markdown",
   "metadata": {},
   "source": [
    "**Алгоритм и обоснование алгоритма**:"
   ]
  },
  {
   "cell_type": "markdown",
   "metadata": {},
   "source": [
    "### Вариант решения №1:\n",
    "- необходимо домножить каждую строку (вектор) признаков на обратимую матрицу. Как было доказано выше метрика MSE как и R2_score не изменится,т.к. результы предсказаний до умножения и после идентичны.  \n",
    "**UPD** Такая матриц уже была сформирована ранее ($X\\_R$ = $X@R$ , где $R$ - обратимая матрица и получена рандомно)."
   ]
  },
  {
   "cell_type": "markdown",
   "metadata": {},
   "source": [
    "Т.к. матрица $X$_$R$ уже существует, то домножать повторно не имеет смысла, просто выведем значение матрицы $X$_$R$ ниже:"
   ]
  },
  {
   "cell_type": "code",
   "execution_count": 31,
   "metadata": {},
   "outputs": [
    {
     "data": {
      "text/plain": [
       "array([[ 4356.24731772,  1026.46913989, 41323.19018192, 38636.8133844 ,\n",
       "        43156.44040217],\n",
       "       [ 3348.86017226,   794.14261697, 31666.74842337, 29613.85939382,\n",
       "        33064.27122128],\n",
       "       [ 1853.22413334,   440.63948829, 17502.09281215, 16368.67895564,\n",
       "        18272.73881367],\n",
       "       ...,\n",
       "       [ 2972.02381083,   698.29507812, 28238.6993774 , 26400.1317315 ,\n",
       "        29495.49275038],\n",
       "       [ 2870.67661372,   676.3275368 , 27242.04490423, 25469.93901557,\n",
       "        28452.12196055],\n",
       "       [ 3561.79119491,   837.62792897, 33822.2269927 , 31621.36986956,\n",
       "        35325.40759919]])"
      ]
     },
     "execution_count": 31,
     "metadata": {},
     "output_type": "execute_result"
    }
   ],
   "source": [
    "X_R"
   ]
  },
  {
   "cell_type": "code",
   "execution_count": 32,
   "metadata": {},
   "outputs": [
    {
     "name": "stdout",
     "output_type": "stream",
     "text": [
      "Матрица обратима, детерминант =  0.009658225505885123\n"
     ]
    }
   ],
   "source": [
    "error_inv(R)"
   ]
  },
  {
   "cell_type": "code",
   "execution_count": 33,
   "metadata": {},
   "outputs": [
    {
     "name": "stdout",
     "output_type": "stream",
     "text": [
      "Матрицы не удовлетваоряет требования к обратимой матрице, возможно неквадратная!\n"
     ]
    }
   ],
   "source": [
    "error_inv(X_R)"
   ]
  },
  {
   "cell_type": "markdown",
   "metadata": {},
   "source": [
    "### Вариант решения №2:\n",
    "- необходимо применить метод StandardScaler.\n",
    "Суть данного метода описывается формулой\n",
    "$$z = \\frac{(x - u)} {s}$$\n",
    "\n",
    "$x$ - признак, который необходимо изменить  \n",
    "$u$ - среднее значение столбца данного признака  \n",
    "$s$ - стандратное отклонение(СКО) признака\n",
    "\n",
    "Данный метод приведет все признаки в диапазон 0 $+-$ одно стандартное отклонение"
   ]
  },
  {
   "cell_type": "code",
   "execution_count": 34,
   "metadata": {},
   "outputs": [],
   "source": [
    "# функция стандартизирует данные аналогично метода StandardScaler\n",
    "# т.к. в некоторых ячейках numpy определяет значения как Nan, применил метод np.nan_to_num.(меняет на 0)\n",
    "\n",
    "def my_ss(X):\n",
    "    s = np.std(X,axis = 0)\n",
    "    u = np.mean(X,axis = 0)\n",
    "    X_new = []\n",
    "    for i in range(X.shape[0]):\n",
    "        vector = []\n",
    "        for j in range(X.shape[1]):\n",
    "            ss = (X[i,j] - u[j])/s[j]\n",
    "            ss = np.nan_to_num(ss)\n",
    "            vector.append(ss)\n",
    "        X_new.append(vector)\n",
    "    return X_new    "
   ]
  },
  {
   "cell_type": "code",
   "execution_count": 35,
   "metadata": {},
   "outputs": [
    {
     "data": {
      "text/plain": [
       "array([[ 0.        ,  1.0030995 ,  1.1754362 ,  0.97315092, -0.18517565],\n",
       "       [ 0.        , -0.99691008,  1.76456423, -0.19011493, -0.18517565],\n",
       "       [ 0.        , -0.99691008, -0.23847105, -1.89490109, -1.09546611],\n",
       "       ...,\n",
       "       [ 0.        , -0.99691008, -1.29890149, -0.60126924,  0.7251148 ],\n",
       "       [ 0.        ,  1.0030995 , -1.06325028, -0.72160708,  1.63540526],\n",
       "       [ 0.        ,  1.0030995 , -0.35629665,  0.07061707, -0.18517565]])"
      ]
     },
     "execution_count": 35,
     "metadata": {},
     "output_type": "execute_result"
    }
   ],
   "source": [
    "X_my_ss = np.array(my_ss(X))\n",
    "X_my_ss"
   ]
  },
  {
   "cell_type": "code",
   "execution_count": 36,
   "metadata": {},
   "outputs": [
    {
     "data": {
      "text/plain": [
       "array([[ 0.        ,  1.0030995 ,  1.1754362 ,  0.97315092, -0.18517565],\n",
       "       [ 0.        , -0.99691008,  1.76456423, -0.19011493, -0.18517565],\n",
       "       [ 0.        , -0.99691008, -0.23847105, -1.89490109, -1.09546611],\n",
       "       ...,\n",
       "       [ 0.        , -0.99691008, -1.29890149, -0.60126924,  0.7251148 ],\n",
       "       [ 0.        ,  1.0030995 , -1.06325028, -0.72160708,  1.63540526],\n",
       "       [ 0.        ,  1.0030995 , -0.35629665,  0.07061707, -0.18517565]])"
      ]
     },
     "execution_count": 36,
     "metadata": {},
     "output_type": "execute_result"
    }
   ],
   "source": [
    "ss = StandardScaler()\n",
    "X_ss = ss.fit_transform(X)\n",
    "\n",
    "X_ss"
   ]
  },
  {
   "cell_type": "code",
   "execution_count": 37,
   "metadata": {},
   "outputs": [
    {
     "data": {
      "text/plain": [
       "array([[ True,  True,  True,  True,  True],\n",
       "       [ True,  True,  True,  True,  True],\n",
       "       [ True,  True,  True,  True,  True],\n",
       "       ...,\n",
       "       [ True,  True,  True,  True,  True],\n",
       "       [ True,  True,  True,  True,  True],\n",
       "       [ True,  True,  True,  True,  True]])"
      ]
     },
     "execution_count": 37,
     "metadata": {},
     "output_type": "execute_result"
    }
   ],
   "source": [
    "# кажется что функция работает аналогично StandardScaler, но значительно медленнее))\n",
    "X_ss == X_my_ss"
   ]
  },
  {
   "cell_type": "markdown",
   "metadata": {},
   "source": [
    "## Проверка алгоритма"
   ]
  },
  {
   "cell_type": "code",
   "execution_count": 38,
   "metadata": {},
   "outputs": [
    {
     "data": {
      "text/plain": [
       "array([ 0.51932881,  0.69230097,  0.09412742, ..., -0.26164511,\n",
       "       -0.19394186,  0.05044763])"
      ]
     },
     "execution_count": 38,
     "metadata": {},
     "output_type": "execute_result"
    }
   ],
   "source": [
    "# попробовал создать алгоритм для линейной регрессии\n",
    "X.dot(np.linalg.inv(X.T.dot(X))).dot(X.T).dot(y)\n",
    "# результаты совпадают с результатами из Sklearn\n"
   ]
  },
  {
   "cell_type": "code",
   "execution_count": 39,
   "metadata": {},
   "outputs": [
    {
     "data": {
      "text/plain": [
       "array([ 0.51932881,  0.69230097,  0.09412742, ..., -0.26164511,\n",
       "       -0.19394186,  0.05044763])"
      ]
     },
     "execution_count": 39,
     "metadata": {},
     "output_type": "execute_result"
    }
   ],
   "source": [
    "model = LinearRegression()\n",
    "model.fit(X,y)\n",
    "predict = model.predict(X)\n",
    "predict"
   ]
  },
  {
   "cell_type": "code",
   "execution_count": 40,
   "metadata": {},
   "outputs": [
    {
     "name": "stdout",
     "output_type": "stream",
     "text": [
      "R2_score для исходной матрицы =  0.4302010044852068\n"
     ]
    }
   ],
   "source": [
    "model = LinearRegression()\n",
    "model.fit(X,y)\n",
    "predict = model.predict(X)\n",
    "\n",
    "print(\"R2_score для исходной матрицы = \",r2_score(y,predict))"
   ]
  },
  {
   "cell_type": "code",
   "execution_count": 41,
   "metadata": {},
   "outputs": [
    {
     "name": "stdout",
     "output_type": "stream",
     "text": [
      "R2_score для исходной матрицы домноженной на обратимую матрицу =  0.43020205211957674\n"
     ]
    }
   ],
   "source": [
    "model = LinearRegression()\n",
    "model.fit(X_R,y)\n",
    "predict = model.predict(X_R)\n",
    "\n",
    "print(\"R2_score для исходной матрицы домноженной на обратимую матрицу = \",r2_score(y,predict))"
   ]
  },
  {
   "cell_type": "code",
   "execution_count": 42,
   "metadata": {},
   "outputs": [
    {
     "name": "stdout",
     "output_type": "stream",
     "text": [
      "R2_score для матрицы после применения  функции my_ss (StandardScaler) =  0.4302010044852068\n"
     ]
    }
   ],
   "source": [
    "model = LinearRegression()\n",
    "model.fit(X_my_ss,y)\n",
    "predict = model.predict(X_my_ss)\n",
    "\n",
    "print(\"R2_score для матрицы после применения  функции my_ss (StandardScaler) = \",r2_score(y,predict))"
   ]
  },
  {
   "cell_type": "markdown",
   "metadata": {},
   "source": [
    "## Чек-лист проверки"
   ]
  },
  {
   "cell_type": "markdown",
   "metadata": {},
   "source": [
    "Поставьте 'x' в выполненных пунктах. Далее нажмите Shift+Enter."
   ]
  },
  {
   "cell_type": "markdown",
   "metadata": {},
   "source": [
    "- [x]  Jupyter Notebook открыт\n",
    "- [x]  Весь код выполняется без ошибок\n",
    "- [x]  Ячейки с кодом расположены в порядке исполнения\n",
    "- [x]  Выполнен шаг 1: данные загружены\n",
    "- [x]  Выполнен шаг 2: получен ответ на вопрос об умножении матриц\n",
    "    - [x]  Указан правильный вариант ответа\n",
    "    - [x]  Вариант обоснован\n",
    "- [x]  Выполнен шаг 3: предложен алгоритм преобразования\n",
    "    - [x]  Алгоритм описан\n",
    "    - [x]  Алгоритм обоснован\n",
    "- [x]  Выполнен шаг 4: алгоритм проверен\n",
    "    - [x]  Алгоритм реализован\n",
    "    - [x]  Проведено сравнение качества моделей до и после преобразования"
   ]
  },
  {
   "cell_type": "code",
   "execution_count": null,
   "metadata": {},
   "outputs": [],
   "source": []
  }
 ],
 "metadata": {
  "kernelspec": {
   "display_name": "Python 3",
   "language": "python",
   "name": "python3"
  },
  "language_info": {
   "codemirror_mode": {
    "name": "ipython",
    "version": 3
   },
   "file_extension": ".py",
   "mimetype": "text/x-python",
   "name": "python",
   "nbconvert_exporter": "python",
   "pygments_lexer": "ipython3",
   "version": "3.8.5"
  },
  "toc": {
   "base_numbering": 1,
   "nav_menu": {},
   "number_sections": true,
   "sideBar": true,
   "skip_h1_title": true,
   "title_cell": "Содержание",
   "title_sidebar": "Contents",
   "toc_cell": true,
   "toc_position": {
    "height": "calc(100% - 180px)",
    "left": "10px",
    "top": "150px",
    "width": "318.391px"
   },
   "toc_section_display": true,
   "toc_window_display": true
  }
 },
 "nbformat": 4,
 "nbformat_minor": 2
}
